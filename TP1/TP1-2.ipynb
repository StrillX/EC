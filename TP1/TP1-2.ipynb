{
 "cells": [
  {
   "cell_type": "markdown",
   "id": "50a9674b",
   "metadata": {},
   "source": [
    "# Trabalho Prático 1\n",
    "\n",
    "Trabalho realizado pelo grupo 11:\n",
    "\n",
    "* Beatriz Fernandes Oliveira, PG50942\n",
    "    \n",
    "* Bruno Filipe Machado Jardim, PG49997"
   ]
  },
  {
   "cell_type": "markdown",
   "id": "8e07213f",
   "metadata": {},
   "source": [
    "### Exercício 2: Criação uma cifra com autenticação de meta-dados a partir de um PRG\n",
    "\n",
    "Para cumprir o objetivo deste exercício, foi necessário a realização das seguintes subetapas:\n",
    "\n",
    "1. Criar um gerador pseudo-aleatório do tipo XOF (“extened output function”) usando o SHAKE256, para gerar uma sequência de palavras de 64 bits. \n",
    "    \n",
    "  1. O gerador deve poder gerar até um limite de $\\,2^n\\,$ palavras ($n$ é  um parâmetro) armazenados em long integers do Python.\n",
    "  \n",
    "  2. A “seed” do gerador funciona como $\\mathtt{cipher\\_key}$ e é gerado por um KDF a partir de uma “password” .\n",
    "  \n",
    "  3. A autenticação do criptograma e dos dados associados é feita usando o próprio SHAKE256.\n",
    "\n",
    "2. Defina os algoritmos de cifrar e decifrar: para cada uma destas operações aplicadas a uma mensagem com blocos de 64 bits, os “outputs” do gerador são usados como máscaras XOR dos blocos da mensagem. Essencialmente a cifra básica é uma implementação do “One Time Pad”."
   ]
  },
  {
   "cell_type": "code",
   "execution_count": 1,
   "id": "ba0fe390",
   "metadata": {},
   "outputs": [],
   "source": [
    "import os\n",
    "from cryptography.hazmat.primitives import hashes, hmac\n",
    "from cryptography.hazmat.primitives.kdf.pbkdf2 import PBKDF2HMAC"
   ]
  },
  {
   "cell_type": "markdown",
   "id": "83b87db4",
   "metadata": {},
   "source": [
    "### Gerador pseudo-aleatório do tipo XOF"
   ]
  },
  {
   "cell_type": "code",
   "execution_count": 2,
   "id": "dfa4502a",
   "metadata": {},
   "outputs": [],
   "source": [
    "def PRG(seed,size):\n",
    "    dgst = hashes.Hash(hashes.SHAKE256(2**size * 8))\n",
    "    dgst.update(seed)\n",
    "    nounceString = dgst.finalize()\n",
    "    return [nounceString[i:i+8] for i in range(0,len(nounceString),8)]"
   ]
  },
  {
   "cell_type": "markdown",
   "id": "c3767985",
   "metadata": {},
   "source": [
    "### Algoritmo de KDF\n",
    "\n",
    "Inserir explicação da utilização do PBDKF em vez de outros algoritmos fornecidos pelo cryptography"
   ]
  },
  {
   "cell_type": "code",
   "execution_count": 3,
   "id": "93d4a72f",
   "metadata": {},
   "outputs": [],
   "source": [
    "def pbkdf_algorithm(password,s,l,its):\n",
    "    \n",
    "    pbdkf = PBKDF2HMAC(\n",
    "        algorithm=hashes.SHA256(),\n",
    "        length= l,\n",
    "        salt= s,\n",
    "        iterations = its)\n",
    "    \n",
    "    key = pbdkf.derive(password)\n",
    "    \n",
    "    return key"
   ]
  },
  {
   "cell_type": "code",
   "execution_count": 4,
   "id": "ee811bed",
   "metadata": {},
   "outputs": [],
   "source": [
    "def auth_cryptogram(key, metadata):\n",
    "    \n",
    "    h = hmac.HMAC(key, hashesSHA256())\n",
    "    h.update(metadata)\n",
    "    \n",
    "    signature = h.finalize()\n",
    "    return signature"
   ]
  },
  {
   "cell_type": "code",
   "execution_count": 5,
   "id": "3798683d",
   "metadata": {},
   "outputs": [],
   "source": [
    "def encrypt(mensagem, generated_seq):\n",
    "    return mensagem"
   ]
  },
  {
   "cell_type": "code",
   "execution_count": 6,
   "id": "4341aedd",
   "metadata": {},
   "outputs": [],
   "source": [
    "def decrypt(ciphertext, generated_seq):\n",
    "    return ciphertext.decode()"
   ]
  },
  {
   "cell_type": "code",
   "execution_count": 7,
   "id": "90edc5a4",
   "metadata": {},
   "outputs": [],
   "source": [
    "def main():\n",
    "    \n",
    "    password = \"EC22-23password\"\n",
    "    #o argumento length recebe em bytes, 64 bits = 8 bytes. \n",
    "    length = 8 \n",
    "    iterations = 480000\n",
    "    msg = \"Lorem ipsum dolor sit amet, consectetur adipiscing elit, sed do eiusmod tempor incididunt ut labore et dolore magna aliqua.\"\n",
    "     \n",
    "    salt = os.urandom(16)    \n",
    "    seed = pbkdf_algorithm(password.encode(), salt, length, iterations)\n",
    "    generated_seq = PRG(seed, length)\n",
    "    \n",
    "    ciphertext = encrypt(msg.encode(), generated_seq)\n",
    "    print(\"Ciphertext: %s\" % ciphertext)\n",
    "    plaintext = decrypt(ciphertext, generated_seq)\n",
    "    print(\"Plaintext: %s\" % plaintext)"
   ]
  },
  {
   "cell_type": "code",
   "execution_count": 8,
   "id": "7d711a94",
   "metadata": {},
   "outputs": [
    {
     "name": "stdout",
     "output_type": "stream",
     "text": [
      "Ciphertext: b'Lorem ipsum dolor sit amet, consectetur adipiscing elit, sed do eiusmod tempor incididunt ut labore et dolore magna aliqua.'\n",
      "Plaintext: Lorem ipsum dolor sit amet, consectetur adipiscing elit, sed do eiusmod tempor incididunt ut labore et dolore magna aliqua.\n"
     ]
    }
   ],
   "source": [
    "if __name__ == \"__main__\":\n",
    "    main()"
   ]
  }
 ],
 "metadata": {
  "kernelspec": {
   "display_name": "Python 3 (ipykernel)",
   "language": "python",
   "name": "python3"
  },
  "language_info": {
   "codemirror_mode": {
    "name": "ipython",
    "version": 3
   },
   "file_extension": ".py",
   "mimetype": "text/x-python",
   "name": "python",
   "nbconvert_exporter": "python",
   "pygments_lexer": "ipython3",
   "version": "3.9.13"
  }
 },
 "nbformat": 4,
 "nbformat_minor": 5
}
