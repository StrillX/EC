{
 "cells": [
  {
   "cell_type": "markdown",
   "id": "c4cbedfe",
   "metadata": {},
   "source": [
    "# Trabalho Prático 1 \n",
    "\n",
    "Trabalho realizado pelo grupo 11:\n",
    "\n",
    "* Beatriz Fernandes Oliveira, PG50942\n",
    "    \n",
    "* Bruno Filipe Machado Jardim, PG49997\n",
    "\n",
    "### Exercício 1"
   ]
  },
  {
   "cell_type": "markdown",
   "id": "8e2613a2",
   "metadata": {},
   "source": [
    "Use o package Criptography para:\n",
    "\n",
    "1. Criar um comunicação privada assíncrona entre um agente Emitter e um agente Receiver que cubra os seguintes aspectos:\n",
    "    1. Autenticação do criptograma e dos metadados (associated data). Usar uma cifra simétrica  num modo HMAC  que seja seguro contra ataques aos “nounces”.\n",
    "    2. Os “nounces” são gerados por um gerador pseudo aleatório (PRG) construído por um função de hash em modo XOF.\n",
    "    3. O par de chaves $\\mathtt{cipher\\_key}, \\mathtt{mac\\_key}$ , para cifra e autenticação, é acordado entre agentes usando o protocolo ECDH com autenticação dos agentes usando assinaturas ECDSA.\n",
    "    "
   ]
  },
  {
   "cell_type": "code",
   "execution_count": 1,
   "id": "59f74edb",
   "metadata": {
    "vscode": {
     "languageId": "python"
    }
   },
   "outputs": [],
   "source": [
    "import os \n",
    "import cryptography\n",
    "from cryptography.hazmat.primitives.ciphers.aead import AESGCM"
   ]
  },
  {
   "cell_type": "markdown",
   "id": "3e39e170",
   "metadata": {},
   "source": [
    "Função de geração pseudo aleatório com base na função de hash **SHAKE256** em modo *XOF*"
   ]
  },
  {
   "cell_type": "code",
   "execution_count": 2,
   "id": "57add2ac",
   "metadata": {
    "vscode": {
     "languageId": "python"
    }
   },
   "outputs": [],
   "source": [
    "def PRG(seed,size):\n",
    "    dgst = hashes.Hash(hashes.SHAKE256(2**size * 8))\n",
    "    dgst.update(seed)\n",
    "    nounceString = dgst.finalize()\n",
    "    return [nounceString[i:i+8] for i in range(0,len(nounceString),8)]"
   ]
  },
  {
   "cell_type": "markdown",
   "id": "2aad4cff",
   "metadata": {},
   "source": [
    "Funções de cifração e decifração com o método **AES** a utilizar o modo *Galois Counter Mode*"
   ]
  },
  {
   "cell_type": "code",
   "execution_count": 3,
   "id": "24c8eeaa",
   "metadata": {
    "vscode": {
     "languageId": "python"
    }
   },
   "outputs": [],
   "source": [
    "def cipher(key,nounce,message,metadata):\n",
    "    aesgcm = AESGCM(key)\n",
    "    ct = aesgcm.encrypt(nounce, message, metadata)\n",
    "    return ct\n",
    "\n",
    "def decipher(key,nounce,ct,aad):\n",
    "    aesgcm = AESGCM(key)\n",
    "    plaintext = aesgcm.decrypt(nounce, ct, aad)\n",
    "    return plaintext"
   ]
  },
  {
   "cell_type": "markdown",
   "id": "88093297",
   "metadata": {},
   "source": [
    "Função que verifica a autenticidade da mensagem utilizando **HMAC** *(Hash-based message authentication codes)*"
   ]
  },
  {
   "cell_type": "code",
   "execution_count": 4,
   "id": "fb30ef4b",
   "metadata": {
    "vscode": {
     "languageId": "python"
    }
   },
   "outputs": [],
   "source": [
    "from cryptography.hazmat.primitives import hashes, hmac\n",
    "def HMAC(key,metadata):\n",
    "    h = hmac.HMAC(key, hashes.SHA256())\n",
    "    h.update(metadata)\n",
    "    signature = h.finalize()\n",
    "    return signature\n",
    "\n",
    "def HMACVerify(key,plaintext,tag):\n",
    "    h = hmac.HMAC(key, hashes.SHA256())\n",
    "    h.update(plaintext)\n",
    "    h.verify(tag)\n",
    "    print(\"[Receiver]: Message Authenticated\")\n",
    "    "
   ]
  },
  {
   "cell_type": "code",
   "execution_count": 5,
   "id": "10823482",
   "metadata": {
    "vscode": {
     "languageId": "python"
    }
   },
   "outputs": [],
   "source": [
    "from cryptography.hazmat.primitives.asymmetric import dh\n",
    "from cryptography.hazmat.primitives import serialization\n",
    "from cryptography.hazmat.primitives.kdf.hkdf import HKDF\n",
    "from cryptography.hazmat.primitives.serialization import load_pem_public_key\n",
    "from cryptography.hazmat.primitives import hashes\n",
    "from cryptography.hazmat.primitives.asymmetric import ec\n",
    "parameters = dh.generate_parameters(generator=2, key_size=2048)\n",
    "def DHKeyGen():\n",
    "    private_key = ec.generate_private_key(ec.SECP384R1())\n",
    "    public_key = private_key.public_key().public_bytes(encoding=serialization.Encoding.PEM, \n",
    "                                                           format=serialization.PublicFormat.SubjectPublicKeyInfo)\n",
    "    return (private_key,public_key)\n",
    "\n",
    "def derive_key(private_key,public_key):\n",
    "    #print(\"Started\")\n",
    "    shared_key = private_key.exchange(ec.ECDH(), public_key)\n",
    "    derived_key = HKDF(\n",
    "        algorithm=hashes.SHA256(),\n",
    "        length=32,\n",
    "        salt=None,\n",
    "        info=b'EC',\n",
    "    ).derive(shared_key)\n",
    "    return derived_key\n",
    "\n",
    "def keyVerification(pbk,signature):\n",
    "    pbkEC = load_pem_public_key(pbk)\n",
    "    try:\n",
    "        pbkEC.verify(signature,pbk,ec.ECDSA(hashes.SHA256()))\n",
    "        print(\"Signature validated\")\n",
    "    except Exception as e:\n",
    "        print(\"Invalid signature: \",e)    "
   ]
  },
  {
   "cell_type": "code",
   "execution_count": 6,
   "id": "c94f88d1",
   "metadata": {
    "vscode": {
     "languageId": "python"
    }
   },
   "outputs": [],
   "source": [
    "async def connectionProtocolEm(qCe,qMe,qCr,qMr):\n",
    "    \n",
    "    pvkCipher,pbkCipher = DHKeyGen()\n",
    "    signatureC = pvkCipher.sign(pbkCipher, ec.ECDSA(hashes.SHA256()))\n",
    "    \n",
    "    await qCe.put((pbkCipher,signatureC))\n",
    "    \n",
    "    pvkMac,pbkMac = DHKeyGen()\n",
    "    signatureM = pvkMac.sign(pbkMac, ec.ECDSA(hashes.SHA256()))\n",
    "    \n",
    "    await qMe.put((pbkMac,signatureM))\n",
    "    #await asyncio.sleep(1)\n",
    "    pbkC,sC = await qCr.get()\n",
    "    pbkM,sM = await qMr.get()\n",
    "    \n",
    "    print(\"[Emitter]: Cipher key validation\")\n",
    "    keyVerification(pbkC,sC)\n",
    "    print(\"[Emitter]: HMAC key validation\")\n",
    "    keyVerification(pbkM,sM)\n",
    "    \n",
    "    #print(pbkCipher,pbkC)\n",
    "    \n",
    "    pbkC = load_pem_public_key(pbkC)\n",
    "    pbkM = load_pem_public_key(pbkM)\n",
    "    \n",
    "    \n",
    "    \n",
    "    derivedCipher = derive_key(pvkCipher,pbkC)\n",
    "   \n",
    "    derivedMac = derive_key(pvkMac,pbkM)\n",
    "    return (derivedCipher,derivedMac)\n",
    "async def connectionProtocolRe(qCe,qMe,qCr,qMr):\n",
    "    \n",
    "    pvkCipher,pbkCipher = DHKeyGen()\n",
    "    signatureC = pvkCipher.sign(pbkCipher, ec.ECDSA(hashes.SHA256()))\n",
    "    \n",
    "    await qCr.put((pbkCipher,signatureC))\n",
    "    \n",
    "    pvkMac,pbkMac = DHKeyGen()\n",
    "    signatureM = pvkMac.sign(pbkMac, ec.ECDSA(hashes.SHA256()))\n",
    "    \n",
    "    await qMr.put((pbkMac,signatureM))\n",
    "    #await asyncio.sleep(1)\n",
    "    pbkC,sC = await qCe.get()\n",
    "    pbkM,sM = await qMe.get()\n",
    "    print(\"[Receiver]: Cipher key validation\")\n",
    "    keyVerification(pbkC,sC)\n",
    "    print(\"[Receiver]: HMAC key validation\")\n",
    "    keyVerification(pbkM,sM)\n",
    "    \n",
    "    #print(pbkCipher,pbkC)\n",
    "    \n",
    "    pbkC = load_pem_public_key(pbkC)\n",
    "    pbkM = load_pem_public_key(pbkM)\n",
    "    \n",
    "    \n",
    "    \n",
    "    derivedCipher = derive_key(pvkCipher,pbkC)\n",
    "   \n",
    "    derivedMac = derive_key(pvkMac,pbkM)\n",
    "    return (derivedCipher,derivedMac)"
   ]
  },
  {
   "cell_type": "code",
   "execution_count": 9,
   "id": "d629ead9",
   "metadata": {
    "vscode": {
     "languageId": "python"
    }
   },
   "outputs": [
    {
     "name": "stdout",
     "output_type": "stream",
     "text": [
      "[Receiver]: Cipher key validation\n",
      "Signature validated\n",
      "[Receiver]: HMAC key validation\n",
      "Signature validated\n",
      "[Emitter]: Cipher key validation\n",
      "Signature validated\n",
      "[Emitter]: HMAC key validation\n",
      "Signature validated\n",
      "[Emitter]: Sent message\n",
      "[Receiver]: Received ->  As armas e os barões assinalados,\n",
      "[Receiver]: Message Authenticated\n",
      "[Emitter]: Sent message\n",
      "[Receiver]: Received ->  Que da ocidental praia Lusitana,\n",
      "[Receiver]: Message Authenticated\n",
      "[Emitter]: Sent message\n",
      "[Receiver]: Received ->  Por mares nunca de antes navegados,\n",
      "[Receiver]: Message Authenticated\n",
      "[Emitter]: Sent message\n",
      "[Receiver]: Received ->  Passaram ainda além da Taprobana,\n",
      "[Receiver]: Message Authenticated\n",
      "[Emitter]: Sent message\n",
      "[Receiver]: Received ->  Em perigos e guerras esforçados,\n",
      "[Receiver]: Message Authenticated\n",
      "[Emitter]: Sent message\n",
      "[Receiver]: Received ->  Mais do que prometia a força humana,\n",
      "[Receiver]: Message Authenticated\n",
      "[Emitter]: Sent message\n",
      "[Receiver]: Received ->  E entre gente remota edificaram\n",
      "[Receiver]: Message Authenticated\n",
      "[Emitter]: Sent message\n",
      "[Receiver]: Received ->  Novo Reino, que tanto sublimaram;\n",
      "[Receiver]: Message Authenticated\n",
      "[Receiver]: End of messages\n"
     ]
    }
   ],
   "source": [
    "import asyncio\n",
    "import random\n",
    "import nest_asyncio\n",
    "nest_asyncio.apply()\n",
    "\n",
    "async def Emitter(queue,qCe,qMe,qCr,qMr):\n",
    "    derivations = asyncio.create_task(connectionProtocolEm(qCe,qMe,qCr,qMr))\n",
    "    kC,kM = await derivations\n",
    "    msg_list = [\n",
    "        \"As armas e os barões assinalados,\",\n",
    "        \"Que da ocidental praia Lusitana,\",\n",
    "        \"Por mares nunca de antes navegados,\",\n",
    "        \"Passaram ainda além da Taprobana,\",\n",
    "        \"Em perigos e guerras esforçados,\",\n",
    "        \"Mais do que prometia a força humana,\",\n",
    "        \"E entre gente remota edificaram\",\n",
    "        \"Novo Reino, que tanto sublimaram;\"\n",
    "    ]\n",
    "    nounceList = PRG(kC,10)\n",
    "    for i in range(len(msg_list)):\n",
    "        msg = msg_list[i].encode('utf-8')\n",
    "        aad = HMAC(kM,msg)\n",
    "        ct = cipher(kC,nounceList[i],msg,aad)\n",
    "        await asyncio.sleep(random.random())\n",
    "        await queue.put((ct,aad))\n",
    "        print(f\"[Emitter]: Sent message\")\n",
    "    await queue.put(None)\n",
    "    \n",
    "\n",
    "async def Receiver(queue,qCe,qMe,qCr,qMr):\n",
    "    derivations = asyncio.create_task(connectionProtocolRe(qCe,qMe,qCr,qMr))\n",
    "    \n",
    "    kC,kM = await derivations\n",
    "    #print(kC)\n",
    "    nounceList = PRG(kC,10)\n",
    "    i = 0\n",
    "    while True:\n",
    "        item = await queue.get()\n",
    "        #print(item)\n",
    "        if item is None:\n",
    "            break\n",
    "        ct, aad = item\n",
    "        pt = decipher(kC,nounceList[i],ct, aad)\n",
    "        print(\"[Receiver]: Received -> \", pt.decode('utf-8'))\n",
    "        HMACVerify(kM,pt,aad)\n",
    "        queue.task_done()\n",
    "        i+=1\n",
    "    print(\"[Receiver]: End of messages\")\n",
    "\n",
    "\n",
    "async def main():\n",
    "    \n",
    "    queue = asyncio.Queue()\n",
    "    qCe = asyncio.Queue()\n",
    "    qMe = asyncio.Queue()\n",
    "    qCr = asyncio.Queue()\n",
    "    qMr = asyncio.Queue()\n",
    "    \n",
    "    emitter = asyncio.create_task(Emitter(queue,qCe,qMe,qCr,qMr))\n",
    "    receiver = asyncio.create_task(Receiver(queue,qCe,qMe,qCr,qMr))\n",
    "    \n",
    "asyncio.run(main())"
   ]
  }
 ],
 "metadata": {
  "kernelspec": {
   "display_name": "Python 3 (ipykernel)",
   "language": "python",
   "name": "python3"
  }
 },
 "nbformat": 4,
 "nbformat_minor": 5
}
