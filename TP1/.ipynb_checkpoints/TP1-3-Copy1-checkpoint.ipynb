{
 "cells": [
  {
   "cell_type": "markdown",
   "id": "48f15bb3",
   "metadata": {},
   "source": [
    "# Trabalho Prático 1 \n",
    "\n",
    "Trabalho realizado pelo grupo 11:\n",
    "\n",
    "* Beatriz Fernandes Oliveira, PG50942\n",
    "    \n",
    "* Bruno Filipe Machado Jardim, PG49997\n",
    "\n",
    "### Exercício 3"
   ]
  },
  {
   "cell_type": "markdown",
   "id": "2033764a",
   "metadata": {},
   "source": [
    "\n",
    "3. Use o “package” Cryptography para\n",
    "    1. Implementar uma AEAD com “Tweakable Block Ciphers” conforme está descrito na última secção do texto +Capítulo 1: Primitivas Criptográficas Básicas.  A cifra por blocos primitiva, usada para gerar a “tweakable block cipher”, é o AES-256 ou o ChaCha20.\n",
    "    2. Use esta cifra para construir um canal privado de informação assíncrona com acordo de chaves feito com “X448 key exchange” e “Ed448 Signing&Verification” para autenticação  dos agentes. Deve incluir uma fase de confirmação da chave acordada."
   ]
  },
  {
   "cell_type": "code",
   "execution_count": 9,
   "id": "8d8cf002",
   "metadata": {},
   "outputs": [],
   "source": [
    "from cryptography.hazmat.primitives.ciphers.algorithms import AES\n",
    "from cryptography.hazmat.primitives.ciphers import Cipher, algorithms, modes\n",
    "from cryptography.hazmat.primitives.ciphers.modes import ECB\n",
    "from cryptography.hazmat.primitives import padding\n",
    "import os\n",
    "import cryptography\n",
    "from cryptography.hazmat.primitives import hashes, hmac"
   ]
  },
  {
   "cell_type": "code",
   "execution_count": 3,
   "id": "c297a1c5",
   "metadata": {},
   "outputs": [],
   "source": [
    "def cipher(tweak,key,message):\n",
    "    key = tweak + key\n",
    "    algorithm = algorithms.AES(key)\n",
    "    cipher = Cipher(algorithm, modes.ECB())\n",
    "    encryptor = cipher.encryptor()\n",
    "    ct = encryptor.update(message) + encryptor.finalize()\n",
    "    return ct\n",
    "def decipher(tweak,key,ct):\n",
    "    key = tweak + key\n",
    "    cipher = Cipher(algorithms.AES(key), modes.ECB())\n",
    "    decryptor = cipher.decryptor()\n",
    "    pt = decryptor.update(ct) + decryptor.finalize()\n",
    "    return pt"
   ]
  },
  {
   "cell_type": "code",
   "execution_count": 12,
   "id": "b4f539c0",
   "metadata": {},
   "outputs": [],
   "source": [
    "def xor(bitString1,bitString2):\n",
    "    return bytes([ x^y for x,y in zip(bitString1,bitString2)])"
   ]
  },
  {
   "cell_type": "code",
   "execution_count": 5,
   "id": "aeddb333",
   "metadata": {},
   "outputs": [],
   "source": [
    "def genTweaks(pt,nounces,length):\n",
    "    n_blocks = len(pt)\n",
    "    tweaks = []\n",
    "    j = 0\n",
    "    for i in range(n_blocks):\n",
    "        tweak = nounces[i] + (i).to_bytes(7,'big') + (0).to_bytes(1,'big')\n",
    "        tweaks.append(tweak)\n",
    "        j = i\n",
    "    last_tweak =  nounces[j+1] + (length).to_bytes(7,'big') + (1).to_bytes(1,'big')\n",
    "    \n",
    "    return tweaks,last_tweak\n",
    "\n",
    "def PRG(seed,size):\n",
    "    dgst = hashes.Hash(hashes.SHAKE256(2**size * 8))\n",
    "    dgst.update(seed)\n",
    "    nounceString = dgst.finalize()\n",
    "    return [nounceString[i:i+8] for i in range(0,len(nounceString),8)]"
   ]
  },
  {
   "cell_type": "code",
   "execution_count": 6,
   "id": "bb467b4e",
   "metadata": {},
   "outputs": [],
   "source": [
    "def getAuth(blocks):\n",
    "    \n",
    "    if len(blocks) == 1:\n",
    "        return blocks[0]\n",
    "    auth = (0).to_bytes(32,'big')\n",
    "    for i in range(0,len(blocks)):\n",
    "        auth = xor(auth,blocks[i])\n",
    "    return auth\n",
    "\n",
    "def getB(msg,size):\n",
    "    final = []\n",
    "    for i in range(0,len(msg),size):\n",
    "        final.append(msg[i:i+size])\n",
    "    return final\n",
    "\n",
    "def padLast(blocks):\n",
    "    last = blocks[-1:][0]\n",
    "    remaining = blocks[:-1]\n",
    "    length = len(last)\n",
    "    last += b'0'*(256-length)\n",
    "    remaining.append(last)\n",
    "    return remaining,length\n",
    "\n",
    "def block2String(blocks):\n",
    "    string = \"\"\n",
    "    for block in blocks:\n",
    "        string += block.decode('utf-8')\n",
    "    return string"
   ]
  },
  {
   "cell_type": "code",
   "execution_count": 7,
   "id": "63aa30ad",
   "metadata": {},
   "outputs": [],
   "source": [
    "msg =  \"\"\"As armas e os barões assinalados,\n",
    "Que da ocidental praia Lusitana,\n",
    "Por mares nunca de antes navegados,\n",
    "Passaram ainda além da Taprobana,\n",
    "Em perigos e guerras esforçados,\n",
    "Mais do que prometia a força humana,\n",
    "E entre gente remota edificaram\n",
    "Novo Reino, que tanto sublimaram;\n",
    "\n",
    "E também as memórias gloriosas\n",
    "Daqueles Reis, que foram dilatando\n",
    "A Fé, o Império, e as terras viciosas\n",
    "De África e de Ásia andaram devastando;\n",
    "E aqueles, que por obras valerosas\n",
    "Se vão da lei da morte libertando;\n",
    "Cantando espalharei por toda parte,\n",
    "Se a tanto me ajudar o engenho e arte.\"\"\""
   ]
  },
  {
   "cell_type": "code",
   "execution_count": 10,
   "id": "c0308518",
   "metadata": {},
   "outputs": [],
   "source": [
    "key = os.urandom(16)\n",
    "def processBlocks(key,msg):\n",
    "    nounces = PRG(key,12)\n",
    "    \n",
    "    msg = msg.encode('utf-8')\n",
    "    length = len(msg)\n",
    "    blocks = getB(msg,256)\n",
    "    blocks, tau = padLast(blocks)\n",
    "   \n",
    "    print(tau)\n",
    "    \n",
    "    tau = (tau).to_bytes(256,'big')\n",
    "\n",
    "    Auth = getAuth(blocks)\n",
    "    tweaks, auth_tweak = genTweaks(blocks,nounces,length)\n",
    "    last = blocks[-1]\n",
    "   \n",
    "    block_Tweak = zip(blocks,tweaks)\n",
    "    \n",
    "    ciphered_blocks = []\n",
    "  \n",
    "    for block , tweak in block_Tweak:\n",
    "        if block == last:\n",
    "            ct = cipher(tweak,key,tau)\n",
    "            last = xor(ct,block)\n",
    "            ciphered_blocks.append(last)\n",
    "            break\n",
    "         \n",
    "        ct = cipher(tweak,key,block)\n",
    "        ciphered_blocks.append(ct)\n",
    "    \n",
    "    tag = cipher(auth_tweak,key,Auth)\n",
    "    return ciphered_blocks,tag,length"
   ]
  },
  {
   "cell_type": "code",
   "execution_count": 13,
   "id": "11bd37d0",
   "metadata": {},
   "outputs": [
    {
     "name": "stdout",
     "output_type": "stream",
     "text": [
      "61\n"
     ]
    },
    {
     "data": {
      "text/plain": [
       "([b'\\x04\\x03+Sm\\xf0\\xc2\\x13\\x02p\\xdd\\x85Q\\rchQ\\x1b2wk\\x8be\\x9cJ*\\x82\\x82\\xdci\\x9b\\xa0\\xab7\\x08\\xe63\\xe0\\xbaC\\te\\xd2\\x1eV\\x18\\n\\x17\\nIM[q\\x00\\xdb\\xcaA&\\xafS\\x93\\xf4G\\x19\\x9a\\xed\\r\\x9ej\\x83q\\x14\\x98\\xa8\\xd4&\\xc6\\xf6\\xb9Y\\xee\\x0e\\xdf\\x88\\xf8H\\x98\\xa2\\xdb-\\xf0\\xe6o\\x88\\xa1r\\xa7g\\xe8\\x13\\x9d\\x1a<\\xa6\\x05\\xf9\\xb1\\xcf\\x85\\xa3\\x9f\\xdfj\\x93\\xaa\\x8f\\x047\\n\\xa9u8\\x07@\\x8d\\x9f\\x81\\xc1\\xca2\\x8d\\xac\\xffJ\\xab\\xfa\\x91\\xfc\\xc7\\xae\"\\xc3\\xb6\\xcb\\xc4\\x11d\\xddza\\xc1\\x19\\xad\\xaa\\x00\\xc5bB\\xd7\\x07\\xbdB\\x0f\\xbf\\x8c\\xfd\\x82.Fw\\xe4\\x14(\\xec\\xc8A;\\x8e\\xfaI\\xa9H\\xe6\\x98}kS\\xe7#nJyLc@\\x02\\xe7.\\x1e\\xcd\\xda\\xc9X\\xff\\x1f\\x04\\xebdsO\\x85\\xdd\\xff]\\xb2\\xd2\\x88\\x82\\xf0\\xc2U\\xa14\\xfc\\x1f\\xb3\\xeb\\t\\xfa\\xcd\\xab\\x05+\\x85\\x8d\\xda\\x01\\x9f\\xff\\xc7\\xfa\\x008H5(\\xb5\\xda\\xfe\\xe0\\x93|D1P\\x1b',\n",
       "  b'\\xec\\xb8h\\xb3\\x1c\\t\\xde\\xeaM*cn\\x0fIj\\xaa\\x85:I\\x86\\xe1\\x0f\\xc3T\\x96\\xf5\\x0f\\xa5\\xcf\\x8f\\xae\\x8e\\xb9\\x17G\\x15$\\xe7A\\xd2\\xe1\\x1d\\xfd~\\x91\\xe9\\x83\\xfd\\xe3\\xd9\\x07\\xa4{\\xf4|\\x80=\\x94\\xbd}Bt3e\\x13\\x06@\\xfd\\x1a\\xa8\\xd2\\xeb\\xb3F0\\\\\\x9f\\x8e\\xcb\\x12\\x8a\\xfc(;`p_\\xad^\\x1a\\xfdN\\xa7\\xa3\\xf19z\\xc8\\xfaTM\\xdc$J\\x04\\xabJIW\\xaal<}\\xf4\\xe7_\\xef\\x14\\x87\\x07\\x9d2\\xdbKO+L\\xc64\\x80(D\\xf8X3.\\xc7d\\xe3P\\x96\\xe8|\\xdd\\x00ql\\xb8\\xc8\\xec\\\\\\xd7,\\x8e\\xe6\\xc2#\\x9c*:g\\xec\\x82zS\\x877\\xa5e\\t\\x94\\xb1F\\xe4\\xdb\\xeff\\xbd\\xbf\\xeb\\xff\\xc4`\\x0eW\\xc3\\xf7\\xb4$-P\\xbb+N\\x07\\x06\\x0c\\xf5\\x94\\xe7\\x0c\\x90\\xb4\\x92\\xbf(\\x98;/\\x8d\\xf9\\x05\\xc9\\x84\\x85\\xd1\\xd0\\xfb\\x9ay\\xd0\\x86i\\x8dq\\x0fzx\\x17\\xa9<\\xe3\\x13\"\\xcbC\\x1d\\xf0\\x7f\\xf9\\x1e\\xa1\\xe7\\xfd\\xad\\x13\\x91\\x04\\x19O\\xc6\\xb4n\\xb3\\x0c\\xcd',\n",
       "  b'\\xc7\\xd5\\xaa\\xd1\\xa0F\\x08\\xe6\\xfb(\\x12\\xab\\xeb\\xa6\\xe8\\x1b\\xdb\\xdc\\xb9\\xd7\\xa0\\x03\"\\xc5\\xf1zS\\xff\\xf0\\xa3\\xe7O\\xc4\\x9d\\xa6\\xc6\\xe5NB\\xe3\\xf0;@\\xff\\xeb\\xe2\\xecU\\xcc\\xd8\\xa5\\xcb\\xaa\\x0fM\\xb6\\xf5(F\\xba\\xaa\\xf2\\xb9\\x0b\\x9b\\x8d\\xfb\\x93\\xf5\\x1f\\x18\\xa6\\xa4j\\x02\\xef\\xb4\\xf2\\xb9\\x0b\\x9b\\x8d\\xfb\\x93\\xf5\\x1f\\x18\\xa6\\xa4j\\x02\\xef\\xb4\\xf2\\xb9\\x0b\\x9b\\x8d\\xfb\\x93\\xf5\\x1f\\x18\\xa6\\xa4j\\x02\\xef\\xb4\\xf2\\xb9\\x0b\\x9b\\x8d\\xfb\\x93\\xf5\\x1f\\x18\\xa6\\xa4j\\x02\\xef\\xb4\\xf2\\xb9\\x0b\\x9b\\x8d\\xfb\\x93\\xf5\\x1f\\x18\\xa6\\xa4j\\x02\\xef\\xb4\\xf2\\xb9\\x0b\\x9b\\x8d\\xfb\\x93\\xf5\\x1f\\x18\\xa6\\xa4j\\x02\\xef\\xb4\\xf2\\xb9\\x0b\\x9b\\x8d\\xfb\\x93\\xf5\\x1f\\x18\\xa6\\xa4j\\x02\\xef\\xb4\\xf2\\xb9\\x0b\\x9b\\x8d\\xfb\\x93\\xf5\\x1f\\x18\\xa6\\xa4j\\x02\\xef\\xb4\\xf2\\xb9\\x0b\\x9b\\x8d\\xfb\\x93\\xf5\\x1f\\x18\\xa6\\xa4j\\x02\\xef\\xb4\\xf2\\xb9\\x0b\\x9b\\x8d\\xfb\\x93\\xf5\\x1f\\x18\\xa6\\xa4j\\x02\\xef\\xb4\\xf2\\xb9\\x0b\\x9b\\x8d\\xfb\\x93\\xf5\\x1f\\x18\\xa6\\xa4j\\x02\\xef\\xb4\\xf2\\xb9\\x0b8By\\xdd\\xc1\\x1f\\x06\\xb8i\\xab\\xfa\\xfb,\\xaa\\x97\\xd0'],\n",
       " b'>Q\\xdf\\xed\\x9a\\xed\\x10z\\xfa\\x08\\xa1a\\x9b\\x9a\\x8f?\\xb5\\x06\\xc0\\xf6;\\xc9\\x80\\x13\\x80\\xa3\\xe7\\xe3\\xe0\\xba\\xc3\\xa3',\n",
       " 573)"
      ]
     },
     "execution_count": 13,
     "metadata": {},
     "output_type": "execute_result"
    }
   ],
   "source": [
    "cts,tag,length = processBlocks(key,msg)\n",
    "cts,tag,length"
   ]
  },
  {
   "cell_type": "code",
   "execution_count": 14,
   "id": "f46958c0",
   "metadata": {},
   "outputs": [],
   "source": [
    "def decipherBlocks(cts,auth,key,size):\n",
    "    nounces = PRG(key,12)\n",
    "    \n",
    "    tweaks, authTweak = genTweaks(cts,nounces,size)\n",
    "    \n",
    "    last = cts[-1]\n",
    "    pad_size = 256-size%256\n",
    "    tau = (size%256).to_bytes(256,'big')\n",
    "    plaintext = []\n",
    "    blockTweak = zip(cts,tweaks)\n",
    "    for block , tweak in blockTweak:\n",
    "        if block == last:\n",
    "            ct = cipher(tweak,key,tau)\n",
    "            last = xor(ct,block)\n",
    "            plaintext.append(last[:-pad_size])\n",
    "            break\n",
    "        pt = decipher(tweak,key,block)\n",
    "        plaintext.append(pt)\n",
    "    pt = block2String(plaintext)\n",
    "    return pt"
   ]
  },
  {
   "cell_type": "code",
   "execution_count": 15,
   "id": "332e85b6",
   "metadata": {},
   "outputs": [
    {
     "name": "stdout",
     "output_type": "stream",
     "text": [
      "As armas e os barões assinalados,\n",
      "Que da ocidental praia Lusitana,\n",
      "Por mares nunca de antes navegados,\n",
      "Passaram ainda além da Taprobana,\n",
      "Em perigos e guerras esforçados,\n",
      "Mais do que prometia a força humana,\n",
      "E entre gente remota edificaram\n",
      "Novo Reino, que tanto sublimaram;\n",
      "\n",
      "E também as memórias gloriosas\n",
      "Daqueles Reis, que foram dilatando\n",
      "A Fé, o Império, e as terras viciosas\n",
      "De África e de Ásia andaram devastando;\n",
      "E aqueles, que por obras valerosas\n",
      "Se vão da lei da morte libertando;\n",
      "Cantando espalharei por toda parte,\n",
      "Se a tanto me ajudar o engenho e arte.\n"
     ]
    }
   ],
   "source": [
    "pt = decipherBlocks(cts,tag,key,length)\n",
    "print(pt)"
   ]
  },
  {
   "cell_type": "code",
   "execution_count": null,
   "id": "ff4f80e6",
   "metadata": {},
   "outputs": [],
   "source": []
  }
 ],
 "metadata": {
  "kernelspec": {
   "display_name": "Python 3 (ipykernel)",
   "language": "python",
   "name": "python3"
  },
  "language_info": {
   "codemirror_mode": {
    "name": "ipython",
    "version": 3
   },
   "file_extension": ".py",
   "mimetype": "text/x-python",
   "name": "python",
   "nbconvert_exporter": "python",
   "pygments_lexer": "ipython3",
   "version": "3.9.7"
  }
 },
 "nbformat": 4,
 "nbformat_minor": 5
}
