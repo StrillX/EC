{
 "cells": [
  {
   "cell_type": "markdown",
   "id": "48f15bb3",
   "metadata": {},
   "source": [
    "# Trabalho Prático 1 \n",
    "\n",
    "Trabalho realizado pelo grupo 11:\n",
    "\n",
    "* Beatriz Fernandes Oliveira, PG50942\n",
    "    \n",
    "* Bruno Filipe Machado Jardim, PG49997\n",
    "\n",
    "### Exercício 3"
   ]
  },
  {
   "cell_type": "markdown",
   "id": "2033764a",
   "metadata": {},
   "source": [
    "\n",
    "3. Use o “package” Cryptography para\n",
    "    1. Implementar uma AEAD com “Tweakable Block Ciphers” conforme está descrito na última secção do texto +Capítulo 1: Primitivas Criptográficas Básicas.  A cifra por blocos primitiva, usada para gerar a “tweakable block cipher”, é o AES-256 ou o ChaCha20.\n",
    "    2. Use esta cifra para construir um canal privado de informação assíncrona com acordo de chaves feito com “X448 key exchange” e “Ed448 Signing&Verification” para autenticação  dos agentes. Deve incluir uma fase de confirmação da chave acordada."
   ]
  },
  {
   "cell_type": "code",
   "execution_count": null,
   "id": "8d8cf002",
   "metadata": {},
   "outputs": [],
   "source": [
    "from cryptography.hazmat.primitives.ciphers.algorithms import AES256\n",
    "from cryptography.hazmat.primitives.ciphers import Cipher"
   ]
  }
 ],
 "metadata": {
  "kernelspec": {
   "display_name": "Python 3 (ipykernel)",
   "language": "python",
   "name": "python3"
  },
  "language_info": {
   "codemirror_mode": {
    "name": "ipython",
    "version": 3
   },
   "file_extension": ".py",
   "mimetype": "text/x-python",
   "name": "python",
   "nbconvert_exporter": "python",
   "pygments_lexer": "ipython3",
   "version": "3.9.13"
  }
 },
 "nbformat": 4,
 "nbformat_minor": 5
}
