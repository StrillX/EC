{
 "cells": [
  {
   "cell_type": "markdown",
   "metadata": {
    "collapsed": false
   },
   "source": [
    "# Trabalho Prático 2\n",
    "\n",
    "Trabalho realizado pelo grupo 11:\n",
    "\n",
    "- Beatriz Fernandes Oliveira, PG50942\n",
    "- Bruno Filipe Machado Jardim, PG49997\n",
    "\n"
   ]
  },
  {
   "cell_type": "markdown",
   "metadata": {
    "collapsed": false
   },
   "source": [
    "### Exercício 2\n",
    "\n",
    "Neste exercício, foi\\-nos proposta a construção de uma classe Python que implementa o  **EdCDSA** a partir do “standard” **FIPS186\\-5**, mais especificamente:\n",
    "\n",
    "- A implementação deve conter funções para assinar digitalmente e verificar a assinatura;\n",
    "- A implementação da classe deve usar uma das “Twisted Edwards Curves” definidas no standard e escolhida na iniciação da classe: a curva “edwards25519” ou “edwards448\";\n",
    "- Por aplicação da transformação de Fiat\\-Shamir construa um protocolo de autenticação de desafio\\-resposta.\n",
    "\n"
   ]
  },
  {
   "cell_type": "code",
   "execution_count": 5,
   "metadata": {
    "collapsed": false
   },
   "outputs": [],
   "source": [
    "import os\n",
    "import hashlib"
   ]
  },
  {
   "attachments": {},
   "cell_type": "markdown",
   "metadata": {
    "collapsed": false
   },
   "source": [
    "#### Implementação de uma das _Twisted Edwards Curves_\n",
    "\n",
    "Optamos, para este trabalho, implementar a curva “edwards448\".\n",
    "\n"
   ]
  },
  {
   "cell_type": "code",
   "execution_count": 1,
   "metadata": {
    "collapsed": false
   },
   "outputs": [],
   "source": [
    "class Edwards448():\n",
    "    \n",
    "    def init(self):\n",
    "        self.p = 2**448 - 2**224 - 1\n",
    "        self.K = GF(self.p)\n",
    "        self.a = self.K(1)\n",
    "        self.d = self.K(-39081)\n",
    "        self.b = 456 #length das assinaturas e das chaves públicas\n",
    "        self.n = 447 #length dos segredos: os 2 primeiros bits são 0 e o último é 1\n",
    "        self.h = 4   #cofactor\n",
    "        self.c = 2\n",
    "        self.L = ZZ(2^446 - 13818066809895115352007386748515426880336692474882178609894547503885)\n",
    "        self.Px = self.K(224580040295924300187604334099896036246789641632564134246125461686950415467406032909029192869357953282578032075146446173674602635247710)\n",
    "        self.Py = self.K(298819210078481492676017930443930673437544040154080242095928241372331506189835876003536878655418784733982303233503462500531545062832660)\n",
    "        \n",
    "    def H(self, mensagem):\n",
    "        m = hashlib.shake_256(mensagem).digest()\n",
    "        \n",
    "    def key_to_bytes(self, key):\n",
    "        return key.to_bytes(self.n//8, 'little', signed=False)\n",
    "                    \n",
    "    def generate_public_key(self):\n",
    "        \"\"\"Process:\n",
    "            1. Obtain a string of b bits from an approved RBG with a security strength of 224 bits or more. \n",
    "            The private key d is this string of b bits.\n",
    "            2. Compute the hash of the private key d, H(d) = (h0, h1, ..., h2b-1) using SHAKE256\n",
    "            (H(d)= SHAKE256(d, 912)). H(d) may be pre-computed.\n",
    "            3. The first half of H(d), (i.e. hdigest1 = (ℎ0, ℎ1, … , ℎ𝑏−1)) is used to generate the public \n",
    "            key. Modify hdigest1 as follows:\n",
    "                3.1 The first two bits of the first octet are set to zero; all eight bits of the last octet\n",
    "                are also set to zero; and the last bit of the second to last octet is set to one. That is,\n",
    "                ℎ0 = ℎ1 = 0, ℎ𝑏−9 = 1, and ℎ𝑖 = 0 for 𝑏 − 8 ≤ 𝑖 ≤ 𝑏 − 1.\n",
    "            4. Determine an integer s from hdigest1 using little-endian convention.\n",
    "            5. Compute the point [s]G. The corresponding EdDSA public key Q is the encoding of the point [s]G.\"\"\"\n",
    "        \n",
    "        self.privatekey = os.urandom(1024)\n",
    "        hashed = self.H(self.privatekey)\n",
    "        hdigest1 = hashed[0:(self.b-1)]\n",
    "        # Modificar o hdigest1\n",
    "        \n",
    "        return self.publickey\n",
    "    \n",
    "    def generate_signature(self, mensagem, context):\n",
    "        # context - a string context set by the signer and verifier with a maximum length of 255 octets; by default, context is the empty string;\n",
    "        \"\"\"Output:The signature R || S, where R is an encoding of a point and S is a little-endian encoded value.\n",
    "           Process:As specified in IETF RFC 8032, the EdDSA signature of a message M under a private key d is defined as\n",
    "           the 2b-bit string R || S. The octet strings R and S are derived as follows:\n",
    "               1.Compute the hash of the private key d, H(d) = (h0, h1, ..., h2b-1) using SHAKE256 \n",
    "               (H(d)= SHAKE256(d, 912)). H(d) may be pre-computed.\n",
    "               2.Using the second half of the digest hdigest2 = hb || ... || h2b-1, define:\n",
    "                   2.1r = SHAKE256(dom4(0, context) || hdigest2 || M, 912). In IETF RFC 8032, dom4(f, c) is defined to\n",
    "                   be (“SigEd448” || octet(f) || octet(octetlength(c)) || c). The string “SigEd448” is in ASCII(8 octets).\n",
    "                   The value octet(f) is the octet with value f, and octetlength(c) is the number of octets in string c.\n",
    "               3.Compute the point [r]G. The octet string R is the encoding of the point [r]G.\n",
    "               4.Derive s from H(d) as in the key pair generation algorithm. Use octet strings R, Q, and M to define:\n",
    "                   4.1S = (r + SHAKE256(dom4(0, context) || R || Q || M, 912) * s) mod n. The octet string S is the \n",
    "                   encoding of the resultant integer.\n",
    "               5.Form the signature as the concatenation of the octet strings R and S.\"\"\"\n",
    "        \n",
    "        hash_privk = self.H(self.privatekey)\n",
    "        return \"\"\n",
    "\n",
    "    def verify_signature(self, mensagem, signature, context):\n",
    "        \"\"\"Output:Accept or reject the signature over M as originating from the owner of public key Q.\n",
    "           Process:\n",
    "               1.Decode the first half of the signature as a point R and the second half of the signature as an\n",
    "               integer s. Verify that the integer s is in the range of 0 ≤ s < n. Decode the public key Q into a point Q’.\n",
    "               If any of the decodings fail, output “reject”.\n",
    "               2.Form the bit string HashData as the concatenation of the octet strings R, Q, and M (i.e., HashData = R || Q || M).\n",
    "               3.Using the established hash function or XOF, compute digest = SHAKE256(dom4(0, context) || HashData, 912).\n",
    "               Interpret digest as a little-endian integer t.\n",
    "               4.Check that the verification equation [2c * S]G = [2c]R + (2c * t)Q. Output “reject” if verification fails;\n",
    "               output “accept” otherwise.\"\"\"\n",
    "        \n",
    "        return \"\""
   ]
  },
  {
   "cell_type": "markdown",
   "metadata": {
    "collapsed": false
   },
   "source": [
    "#### Construção do protocolo de autenticação desafio\\-resposta\n",
    "\n"
   ]
  },
  {
   "cell_type": "code",
   "execution_count": null,
   "metadata": {
    "collapsed": false
   },
   "outputs": [],
   "source": []
  }
 ],
 "metadata": {
  "kernelspec": {
   "display_name": "SageMath 9.5",
   "language": "sagemath",
   "metadata": {
    "cocalc": {
     "description": "Open-source mathematical software system",
     "priority": 1,
     "url": "https://www.sagemath.org/"
    }
   },
   "name": "sage-9.5",
   "resource_dir": "/ext/jupyter/kernels/sage-9.5"
  },
  "language_info": {
   "codemirror_mode": {
    "name": "ipython",
    "version": 3
   },
   "file_extension": ".py",
   "mimetype": "text/x-python",
   "name": "python",
   "nbconvert_exporter": "python",
   "pygments_lexer": "ipython3",
   "version": "3.9.9"
  }
 },
 "nbformat": 4,
 "nbformat_minor": 4
}
