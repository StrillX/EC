{
 "cells": [
  {
   "attachments": {},
   "cell_type": "markdown",
   "metadata": {},
   "source": [
    "# Trabalho Prático 1\n",
    "\n",
    "Trabalho realizado pelo grupo 11:\n",
    "\n",
    "* Beatriz Fernandes Oliveira, PG50942\n",
    "    \n",
    "* Bruno Filipe Machado Jardim, PG49997"
   ]
  },
  {
   "attachments": {},
   "cell_type": "markdown",
   "metadata": {},
   "source": [
    "\n",
    "2. Construir uma classe Python que implemente o  EdCDSA a partir do “standard” FIPS186-5\n",
    "    1. A implementação deve conter funções para assinar digitalmente e verificar a assinatura.\n",
    "    2. A implementação da classe deve usar  uma das “Twisted Edwards Curves” definidas no standard e escolhida  na iniciação da classe: a curva  “edwards25519” ou “edwards448”.\n",
    "    3. Por aplicação da transformação de Fiat-Shamir construa um protocolo de autenticação de desafio-resposta."
   ]
  },
  {
   "cell_type": "code",
   "execution_count": 141,
   "metadata": {
    "vscode": {
     "languageId": "python"
    }
   },
   "outputs": [],
   "source": [
    "from pure25519.basic import bytes_to_scalar, Base, bytes_to_clamped_scalar, bytes_to_element , scalar_to_bytes, random_scalar\n",
    "import hashlib, binascii\n",
    "class EdDSA:\n",
    "    def __init__(self):\n",
    "        self.order = 2^252 + 27742317777372353535851937790883648493\n",
    "    \n",
    "    def HASH(self,m):\n",
    "        return hashlib.sha512(m).digest()\n",
    "    \n",
    "    def Hint(self,m):\n",
    "        h = self.HASH(m)\n",
    "        return int(binascii.hexlify(h[::-1]), 16)\n",
    "    \n",
    "    def genKeys(self):\n",
    "        \n",
    "        def publickey(sk):\n",
    "            assert len(sk) == 32\n",
    "            a = bytes_to_clamped_scalar(sk)\n",
    "            A = Base.scalarmult(a)\n",
    "            return A.to_bytes()\n",
    "        \n",
    "        sk = os.urandom(32)\n",
    "        hashed_sk = hashlib.sha512(sk).digest()\n",
    "        pk = publickey(hashed_sk[:32])\n",
    "        return sk, pk\n",
    "    \n",
    "    def sign(self,m,sk,pk):\n",
    "        assert len(sk) == 32 and len(pk) == 32\n",
    "        \n",
    "        h = self.HASH(sk)\n",
    "        hdigest1, hdigest2 = h[:32], h[32:]\n",
    "        a = bytes_to_clamped_scalar(hdigest1)\n",
    "        r = self.Hint(hdigest2 + m)\n",
    "        R = Base.scalarmult(r)\n",
    "        R_bytes = R.to_bytes()\n",
    "        S = r + self.Hint(R_bytes + pk + m) * a\n",
    "        return R_bytes + scalar_to_bytes(S)\n",
    "    \n",
    "    def verify(self,s, m, pk):\n",
    "        assert len(s) == 64 and len(pk) == 32 \n",
    "        \n",
    "        R = bytes_to_element(s[:32])\n",
    "        A = bytes_to_element(pk)\n",
    "        S = bytes_to_scalar(s[32:])\n",
    "        h = self.Hint(s[:32] + pk + m)\n",
    "        a = Base.scalarmult(S)\n",
    "        b = R.add(A.scalarmult(h))\n",
    "        return a==b\n",
    "    # DOES NOT WORK\n",
    "    def challenge(self, m, sk, pk):\n",
    "        c = random_scalar(entropy_f=os.urandom)\n",
    "        C = Base.scalarmult(c)\n",
    "        C_bytes = C.to_bytes()\n",
    "        e = self.Hint(C_bytes + m)\n",
    "        sk_int = int(binascii.hexlify(sk[::-1]), 16)\n",
    "        z = (c + e * sk_int) % self.order\n",
    "        return z,e\n",
    "    \n",
    "    def prove(self,message, challenge, pk):\n",
    "        z,e = challenge\n",
    "        Z = Base.scalarmult(z)\n",
    "        Q = bytes_to_element(pk)\n",
    "        Se = Q.scalarmult(e)\n",
    "        soma = Z.add(Se)\n",
    "        \n",
    "        \n",
    "        result = self.Hint(soma.to_bytes()+message)\n",
    "        \n",
    "        \n",
    "        print(e, result)\n",
    "    \n",
    "    \n",
    "    \n",
    "         "
   ]
  },
  {
   "cell_type": "code",
   "execution_count": 144,
   "metadata": {
    "vscode": {
     "languageId": "python"
    }
   },
   "outputs": [
    {
     "name": "stdout",
     "output_type": "stream",
     "text": [
      "[Alice]: My private key is:  b'$\\xe5\\x8eB\\xc5\\x94*\\x9d\\xcd\\xcaZV\\x8a@\\x15Y\\x96>\\xaa\\xf6}]\\xd0\\xdc\\xd1\\x16v\\x14\\x0c\\x84\\xce6'\n",
      "[Alice]: My public key is:  b'\\x00\\x9c\\x12\\xb1\\xab\\xf03b\\x1c\\x94&8\\xd7\\xb0\\xbd<\\xe6e\\xeel#\\xa1\\x00R\\xf8! \\xee\\xcae\\xf1\\x84'\n",
      "Signature is not valid\n",
      "Signature is valid\n"
     ]
    }
   ],
   "source": [
    "ed = EdDSA()\n",
    "sk,pk = ed.genKeys()\n",
    "print(\"[Alice]: My private key is: \", sk)\n",
    "print(\"[Alice]: My public key is: \", pk)\n",
    "sig = ed.sign(b'TP2-2 - EdDSA',sk,pk)\n",
    "\n",
    "\n",
    "\n",
    "if ed.verify(sig,b'TP2 - EdDSA',pk): print(\"Signature is valid\")\n",
    "else: print(\"Signature is not valid\")\n",
    "\n",
    "if ed.verify(sig,b'TP2-2 - EdDSA',pk): print(\"Signature is valid\")\n",
    "else: print(\"Signature is not valid\")"
   ]
  },
  {
   "cell_type": "code",
   "execution_count": 143,
   "metadata": {
    "vscode": {
     "languageId": "python"
    }
   },
   "outputs": [
    {
     "name": "stdout",
     "output_type": "stream",
     "text": [
      "9255394769851793343406735774905502016481117042327437064555048488754499184143573363675324336990089852196610232418252101826356175011780592336606370814486167 4201238148179585636626602337736822387683228306370300938724421533259744723772215989466867984627973332689067091974593071555103070405378750895294390715391438\n"
     ]
    }
   ],
   "source": [
    "challenge = ed.challenge(b'TP2-2 - EdDSA',sk,pk)\n",
    "challenge\n",
    "\n",
    "proof = ed.prove(b'TP2-2 - EdDSA',challenge,pk)\n"
   ]
  },
  {
   "cell_type": "code",
   "execution_count": null,
   "metadata": {
    "vscode": {
     "languageId": "python"
    }
   },
   "outputs": [],
   "source": []
  }
 ],
 "metadata": {
  "kernelspec": {
   "display_name": "SageMath 9.5",
   "language": "sage",
   "name": "sagemath"
  },
  "language_info": {
   "codemirror_mode": {
    "name": "ipython",
    "version": 3
   },
   "file_extension": ".py",
   "mimetype": "text/x-python",
   "name": "sage",
   "nbconvert_exporter": "python",
   "pygments_lexer": "ipython3",
   "version": "3.10.6"
  },
  "orig_nbformat": 4
 },
 "nbformat": 4,
 "nbformat_minor": 2
}
