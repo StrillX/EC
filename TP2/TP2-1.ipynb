{
 "cells": [
  {
   "attachments": {},
   "cell_type": "markdown",
   "metadata": {},
   "source": [
    "# Trabalho Prático 2\n",
    "\n",
    "Trabalho realizado pelo grupo 11:\n",
    "\n",
    "* Beatriz Fernandes Oliveira, PG50942\n",
    "    \n",
    "* Bruno Filipe Machado Jardim, PG49997"
   ]
  },
  {
   "attachments": {},
   "cell_type": "markdown",
   "metadata": {},
   "source": [
    "## Problema 1\n",
    "\n",
    "1. Construir uma classe Python que implemente um KEM - ElGamal. A classe deve:\n",
    "    - Inicializar cada instância recebendo  o parâmetro de segurança (tamanho em bits da ordem do grupo cíclico) e gere as chaves pública e privada.\n",
    "    - Conter funções para encapsulamento e revelação da chave gerada.\n",
    "    - Construir,  a partir deste KEM e usando a transformação de Fujisaki-Okamoto, um PKE que seja IND-CCA seguro.\n"
   ]
  },
  {
   "attachments": {},
   "cell_type": "markdown",
   "metadata": {},
   "source": [
    "### A. \n",
    "É necessário garantir que o DLP seja complexo, para isto não basta que o $p$ seja grande, é necessário que o maior fator primo de $(p-1)$ é tambem grande:\n",
    "\n",
    "Para garantir estas condições o primo $p$ tem de ser gerado de uma determinda forma:\n",
    "- É gerado um primo q, com pelo menos 160 bits de tamanho\n",
    "- Geram-se sucessivamente inteiros $p = q*2+1$ e $q$ até que p seja um primo suficientemente grande para satisfazer o parametro de segurança\n",
    "\n",
    "\n",
    "Optamos por este método pois quando utilizamos o método descrito no [Capítulo 3a: Introdução à Álgebra Abstrata (continuação)](https://paper.dropbox.com/doc/Capitulo-3a-Introducao-a-Algebra-Abstrata-continuacao--B1NHOHi40IhSVblbXMayxPO7Ag-76H4R2e1YWSbWZ210Z8fQ), isto causou com que o parametro $p$ se tornasse extremamente grande e causasse problemas na implementação da transformação Fujisaki-Okamoto."
   ]
  },
  {
   "attachments": {},
   "cell_type": "markdown",
   "metadata": {},
   "source": [
    "### B.\n",
    "As funções de encapsulamento e revelação foram definidas da seguinte forma\n",
    "- $KEM(\\beta) \\equiv\n",
    "\\vartheta r \\gets \\mathbb Z_q \\setminus 0 \\centerdot\n",
    "\\vartheta \\mathsf{key} \\gets \\beta^r \\bmod p \\centerdot\n",
    "\\vartheta \\mathsf{enc} \\gets g^r \\bmod p \\centerdot\n",
    "(\\mathsf{key},\\mathsf{enc}) $\n",
    "\n",
    "- $KRev(a,\\mathsf{enc}) \\equiv \\mathsf{enc}^a \\bmod p$"
   ]
  },
  {
   "cell_type": "code",
   "execution_count": 1,
   "metadata": {
    "vscode": {
     "languageId": "python"
    }
   },
   "outputs": [],
   "source": [
    "class ElGamal:\n",
    "    def __init__(self, size):\n",
    "        def genPrime():\n",
    "            q_size = 160\n",
    "            q = random_prime(ZZ.random_element(2^(q_size-1),2^q_size-1))\n",
    "            pi = 2*q + 1\n",
    "            \n",
    "            while not is_prime(pi) and len(pi.binary()) < self.size:\n",
    "                q = next_prime(q)\n",
    "                pi = 2*q + 1\n",
    "                \n",
    "            return pi,q\n",
    "    \n",
    "        def genParams():\n",
    "            p,q = genPrime()\n",
    "            R = GF(p)\n",
    "            g = R.multiplicative_generator()\n",
    "            return (p, q, g)\n",
    "        \n",
    "        \n",
    "        \n",
    "        self.size = size\n",
    "        self.p, self.q, self.g = genParams()\n",
    "        \n",
    "    \n",
    "    def keyGen(self):\n",
    "        a = ZZ.random_element(2, (self.q)-1)\n",
    "        beta = power_mod(self.g, a, self.p)\n",
    "        return a, beta\n",
    "    \n",
    "    def KEM(self, beta, r=None):\n",
    "        if r is None:\n",
    "            r = ZZ.random_element(1, (self.q)-1)\n",
    "        \n",
    "        key = power_mod(beta, r, self.p)\n",
    "        enc = power_mod(self.g, r, self.p)\n",
    "        return key, enc\n",
    "    \n",
    "    def KRev(self,a ,enc):\n",
    "        return power_mod(enc, a, self.p)\n",
    "        \n",
    "    "
   ]
  },
  {
   "cell_type": "code",
   "execution_count": 2,
   "metadata": {
    "vscode": {
     "languageId": "python"
    }
   },
   "outputs": [
    {
     "name": "stdout",
     "output_type": "stream",
     "text": [
      "Alice's keys:  725306253566939538350339759035304450225393048735 130172683673329459811425123980804042371729310649\n",
      "Bob's keys:  723980873475542303128283662530441662973433600440 264028465684998091052251434212250271675483981077\n"
     ]
    }
   ],
   "source": [
    "# Generation of the keys\n",
    "eg = ElGamal(1024)\n",
    "alice_pvk, alice_pbk = eg.keyGen()\n",
    "bob_pvk, bob_pbk = eg.keyGen()\n",
    "print(\"Alice's keys: \", alice_pvk, alice_pbk)\n",
    "print(\"Bob's keys: \", bob_pvk, bob_pbk)"
   ]
  },
  {
   "cell_type": "code",
   "execution_count": 3,
   "metadata": {
    "vscode": {
     "languageId": "python"
    }
   },
   "outputs": [
    {
     "name": "stdout",
     "output_type": "stream",
     "text": [
      "Alice:  3162553001967407053133542160209599834411625141\n",
      "Bob:  3162553001967407053133542160209599834411625141\n"
     ]
    }
   ],
   "source": [
    "# Sharing of the keys\n",
    "\n",
    "alice_key, alice_enc = eg.KEM(bob_pbk)\n",
    "print(\"Alice: \", alice_key)\n",
    "bob_key = eg.KRev(bob_pvk, alice_enc)\n",
    "print(\"Bob: \", bob_key)\n"
   ]
  },
  {
   "attachments": {},
   "cell_type": "markdown",
   "metadata": {},
   "source": [
    "### C.\n",
    "Para esta última alínea tinhamos que transformar o nosso *KEM* num *PKE-IND-CCA*\n",
    "\n",
    "Dado isto constuímos a classe *FO_ElGamal*, que constrói o seu próprio *KEM-ElGamal* que depois utiliza nas funções *encrypt* e *decrypt*.\n",
    "\n",
    "A função de cifração é definida da seguinte forma:\n",
    "\n",
    "\n",
    "$E'(x)\\;\\equiv\\;\\vartheta\\,r \\gets h\\,\\centerdot\\,\\vartheta\\,y \\gets x\\oplus g(r)\\,\\centerdot\\, (e,k) \\gets f(y\\|r)\\,\\centerdot\\,\\vartheta\\,c\\gets k\\oplus r\\,\\centerdot\\,(y, e, c)$\n",
    "\n",
    "A função de decifração será da seguinte forma:\n",
    "\n",
    "$D'(y,e,c) \\;\\equiv\\;\\vartheta\\,k \\gets \\mathsf{KREv}(e)\\,\\centerdot\\,\\vartheta\\,r \\gets c \\oplus k\\,\\centerdot\\,\\mathsf{if}\\;\\;(e,k)\\neq f(y\\|r) \\;\\;\\mathsf{then}\\;\\;\\bot\\;\\;\\mathsf{else}\\;\\;y \\oplus g(r)$\n"
   ]
  },
  {
   "cell_type": "code",
   "execution_count": 4,
   "metadata": {
    "vscode": {
     "languageId": "python"
    }
   },
   "outputs": [],
   "source": [
    "import hashlib\n",
    "import os"
   ]
  },
  {
   "cell_type": "code",
   "execution_count": 5,
   "metadata": {
    "vscode": {
     "languageId": "python"
    }
   },
   "outputs": [],
   "source": [
    "def xor(b, a):\n",
    "    return bytes([a^^b for a,b in zip(a,b)])"
   ]
  },
  {
   "cell_type": "code",
   "execution_count": 6,
   "metadata": {
    "vscode": {
     "languageId": "python"
    }
   },
   "outputs": [],
   "source": [
    "class FO_ElGamal:\n",
    "    def __init__(self, size):\n",
    "        self.kem = ElGamal(size)\n",
    "    \n",
    "    def encrypt(self,m, key):\n",
    "        x = m.encode()\n",
    "        \n",
    "        r = ZZ.random_element(2, (self.kem.q)-1)\n",
    "        r = str(r).encode()\n",
    "        # Cipher r\n",
    "        gr = hashlib.sha256(r).digest()\n",
    "        # XOR\n",
    "        y = xor(x,gr)\n",
    "        # Concat r and y\n",
    "        yr = y + r\n",
    "        yr = int.from_bytes(yr, byteorder='big')\n",
    "        # KEM\n",
    "        k, e = self.kem.KEM(key, yr)\n",
    "        k_ = int(k).to_bytes(len(r), byteorder='big')\n",
    "        # XOR k and r\n",
    "        c = xor(k_,r)\n",
    "        \n",
    "        return y,e,c\n",
    "    \n",
    "    def decrypt(self, y, e, c, pvk, pbk):\n",
    "        # KRev\n",
    "        k = self.kem.KRev(pvk, e)\n",
    "        k_ = int(k).to_bytes(len(c), byteorder='big')\n",
    "        \n",
    "        # XOR k and c\n",
    "        r = xor(k_,c)\n",
    "        \n",
    "        # Check if the decryption can be done\n",
    "        yr = y + r\n",
    "        yr = int.from_bytes(yr, byteorder='big')\n",
    "        \n",
    "        if (k,e) != (self.kem.KEM(pbk, yr)):\n",
    "            return \"Decryption failed\"\n",
    "        \n",
    "        # Decryption\n",
    "        g = hashlib.sha256(r).digest()\n",
    "        pt = xor(g,y)\n",
    "        \n",
    "        return pt.decode()\n",
    "   \n",
    "        \n",
    "        \n",
    "        \n",
    "        \n",
    "    "
   ]
  },
  {
   "cell_type": "code",
   "execution_count": 7,
   "metadata": {
    "vscode": {
     "languageId": "python"
    }
   },
   "outputs": [],
   "source": [
    "fo = FO_ElGamal(1024)\n",
    "\n",
    "# Gen Keys\n",
    "apvk, apbk = fo.kem.keyGen()\n",
    "bpvk, bpbk = fo.kem.keyGen()"
   ]
  },
  {
   "cell_type": "code",
   "execution_count": 8,
   "metadata": {
    "vscode": {
     "languageId": "python"
    }
   },
   "outputs": [
    {
     "data": {
      "text/plain": [
       "'TP2 Fujisaki-Okamoto'"
      ]
     },
     "execution_count": 8,
     "metadata": {},
     "output_type": "execute_result"
    }
   ],
   "source": [
    "y,e,c = fo.encrypt(\"TP2 Fujisaki-Okamoto\", bpbk)\n",
    "pt = fo.decrypt(y,e,c, bpvk, bpbk)\n",
    "pt"
   ]
  }
 ],
 "metadata": {
  "kernelspec": {
   "display_name": "SageMath 9.5",
   "language": "sage",
   "name": "sagemath"
  },
  "language_info": {
   "codemirror_mode": {
    "name": "ipython",
    "version": 3
   },
   "file_extension": ".py",
   "mimetype": "text/x-python",
   "name": "sage",
   "nbconvert_exporter": "python",
   "pygments_lexer": "ipython3",
   "version": "3.10.6"
  },
  "orig_nbformat": 4
 },
 "nbformat": 4,
 "nbformat_minor": 2
}
