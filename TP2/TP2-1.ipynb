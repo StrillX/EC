{
 "cells": [
  {
   "cell_type": "code",
   "execution_count": 1,
   "metadata": {},
   "outputs": [],
   "source": [
    "class ElGamal:\n",
    "    def __init__(self, size):\n",
    "        def genPrime():\n",
    "            q_size = 160\n",
    "            q = random_prime(ZZ.random_element(2^(q_size-1),2^q_size-1))\n",
    "            pi = 2*q + 1\n",
    "            \n",
    "            while not is_prime(pi) and len(pi.binary()) < self.size:\n",
    "                q = next_prime(q)\n",
    "                pi = 2*q + 1\n",
    "                \n",
    "            return pi,q\n",
    "    \n",
    "        def genParams():\n",
    "            p,q = genPrime()\n",
    "            R = GF(p)\n",
    "            g = R.multiplicative_generator()\n",
    "            return (p, q, g)\n",
    "        \n",
    "        \n",
    "        \n",
    "        self.size = size\n",
    "        self.p, self.q, self.g = genParams()\n",
    "        \n",
    "    \n",
    "    def keyGen(self):\n",
    "        a = ZZ.random_element(2, (self.q)-1)\n",
    "        beta = power_mod(self.g, a, self.p)\n",
    "        return a, beta\n",
    "    \n",
    "    def KEM(self, beta, r=None):\n",
    "        if r is None:\n",
    "            r = ZZ.random_element(2, (self.q)-1)\n",
    "        \n",
    "        key = pow(beta, r, self.p)\n",
    "        enc = pow(self.g, r, self.p)\n",
    "        return key, enc\n",
    "    \n",
    "    def KRev(self,a ,enc):\n",
    "        return pow(enc, a, self.p)\n",
    "        \n",
    "    "
   ]
  },
  {
   "cell_type": "code",
   "execution_count": 2,
   "metadata": {},
   "outputs": [
    {
     "name": "stdout",
     "output_type": "stream",
     "text": [
      "Alice's keys:  132613159081623024258031172495203335620918608161 360248410515475520909758006695331845491369648308\n",
      "Bob's keys:  127112148370600925241131131749795095790615945179 415059872375246466298304934168944568195030201572\n"
     ]
    }
   ],
   "source": [
    "# Generation of the keys\n",
    "eg = ElGamal(1024)\n",
    "alice_pvk, alice_pbk = eg.keyGen()\n",
    "bob_pvk, bob_pbk = eg.keyGen()\n",
    "print(\"Alice's keys: \", alice_pvk, alice_pbk)\n",
    "print(\"Bob's keys: \", bob_pvk, bob_pbk)"
   ]
  },
  {
   "cell_type": "code",
   "execution_count": 3,
   "metadata": {},
   "outputs": [
    {
     "name": "stdout",
     "output_type": "stream",
     "text": [
      "Alice:  242847917013476179086241583816579197350737405925\n",
      "Bob:  242847917013476179086241583816579197350737405925\n"
     ]
    }
   ],
   "source": [
    "# Sharing of the keys\n",
    "\n",
    "alice_key, alice_enc = eg.KEM(bob_pbk)\n",
    "print(\"Alice: \", alice_key)\n",
    "bob_key = eg.KRev(bob_pvk, alice_enc)\n",
    "print(\"Bob: \", bob_key)\n"
   ]
  },
  {
   "cell_type": "code",
   "execution_count": 4,
   "metadata": {},
   "outputs": [],
   "source": [
    "import hashlib\n",
    "import os"
   ]
  },
  {
   "cell_type": "code",
   "execution_count": 5,
   "metadata": {},
   "outputs": [],
   "source": [
    "def xor(b, a):\n",
    "    return bytes([a^^b for a,b in zip(a,b)])"
   ]
  },
  {
   "cell_type": "code",
   "execution_count": 6,
   "metadata": {},
   "outputs": [],
   "source": [
    "class FO_ElGamal:\n",
    "    def __init__(self, size):\n",
    "        self.kem = ElGamal(size)\n",
    "    \n",
    "    def encrypt(self,m, key):\n",
    "        x = m.encode()\n",
    "        \n",
    "        r = ZZ.random_element(2, (self.kem.q)-1)\n",
    "        r = str(r).encode()\n",
    "        # Cipher r\n",
    "        gr = hashlib.sha256(r).digest()\n",
    "        # XOR\n",
    "        y = xor(x,gr)\n",
    "        # Concat r and y\n",
    "        yr = y + r\n",
    "        yr = int.from_bytes(yr, byteorder='big')\n",
    "        # KEM\n",
    "        k, e = self.kem.KEM(key, yr)\n",
    "       \n",
    "        k_ = int(k).to_bytes(len(r), byteorder='big')\n",
    "        \n",
    "        #k_ = bytes(str(Integer(k).binary()).encode())\n",
    "        # XOR k and r\n",
    "        c = xor(k_,r)\n",
    "        \n",
    "        return y,e,c\n",
    "    \n",
    "    def decrypt(self, y, e, c, pvk, pbk):\n",
    "        # KRev\n",
    "        k = self.kem.KRev(pvk, e)\n",
    "        k_ = int(k).to_bytes(len(c), byteorder='big')\n",
    "        \n",
    "        # XOR k and c\n",
    "        r = xor(k_,c)\n",
    "        \n",
    "        # Check if the decryption can be done\n",
    "        yr = y + r\n",
    "        yr = int.from_bytes(yr, byteorder='big')\n",
    "        \n",
    "        \n",
    "        if (k,e) != (self.kem.KEM(pbk, yr)):\n",
    "            return \"Decryption failed\"\n",
    "        \n",
    "        # Decryption\n",
    "        g = hashlib.sha256(r).digest()\n",
    "        pt = xor(g,y)\n",
    "        \n",
    "        return pt.decode()\n",
    "   \n",
    "        \n",
    "        \n",
    "        \n",
    "        \n",
    "    "
   ]
  },
  {
   "cell_type": "code",
   "execution_count": 7,
   "metadata": {},
   "outputs": [],
   "source": [
    "fo = FO_ElGamal(1024)\n",
    "\n",
    "# Gen Keys\n",
    "apvk, apbk = fo.kem.keyGen()\n",
    "bpvk, bpbk = fo.kem.keyGen()"
   ]
  },
  {
   "cell_type": "code",
   "execution_count": 8,
   "metadata": {},
   "outputs": [
    {
     "data": {
      "text/plain": [
       "'TP2 Fujisaki-Okamoto'"
      ]
     },
     "execution_count": 8,
     "metadata": {},
     "output_type": "execute_result"
    }
   ],
   "source": [
    "y,e,c = fo.encrypt(\"TP2 Fujisaki-Okamoto\", bpbk)\n",
    "pt = fo.decrypt(y,e,c, bpvk, bpbk)\n",
    "pt"
   ]
  }
 ],
 "metadata": {
  "kernelspec": {
   "display_name": "SageMath 9.5",
   "language": "sage",
   "name": "sagemath"
  },
  "language_info": {
   "codemirror_mode": {
    "name": "ipython",
    "version": 3
   },
   "file_extension": ".py",
   "mimetype": "text/x-python",
   "name": "python",
   "nbconvert_exporter": "python",
   "pygments_lexer": "ipython3",
   "version": "3.10.6"
  },
  "orig_nbformat": 4
 },
 "nbformat": 4,
 "nbformat_minor": 2
}
