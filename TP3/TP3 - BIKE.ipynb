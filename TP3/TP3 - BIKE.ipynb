{
 "cells": [
  {
   "cell_type": "markdown",
   "metadata": {
    "collapsed": false
   },
   "source": [
    "# Trabalho Prático 3\n",
    "\n",
    "Trabalho realizado pelo grupo 11:\n",
    "\n",
    "* Beatriz Fernandes Oliveira, PG50942\n",
    "    \n",
    "* Bruno Filipe Machado Jardim, PG49997\n",
    "\n"
   ]
  },
  {
   "cell_type": "markdown",
   "metadata": {
    "collapsed": false
   },
   "source": [
    "## Algoritmo BIKE\n",
    "\n",
    "Nesta segunda parte do trabalho prático 3, foi\\-nos pedido:\n",
    "\n",
    "1. A criação de um protótipo em Sagemath para o algoritmo BIKE, que se baseia no problema da descodificação de códigos lineares de baixa densidade que são simples de implementar.\n",
    "\n",
    "2. E, posteriormente, para essa técnica pretende\\-se implementar um KEM, que seja IND\\-CPA seguro, e um PKE que seja IND\\-CCA seguro.\n",
    "\n"
   ]
  },
  {
   "cell_type": "code",
   "execution_count": 15,
   "metadata": {
    "collapsed": false
   },
   "outputs": [
   ],
   "source": [
    "import random\n",
    "from cryptography.hazmat.primitives import hashes\n",
    "import os\n",
    "from cryptography.hazmat.primitives.ciphers import Cipher, algorithms, modes"
   ]
  },
  {
   "cell_type": "code",
   "execution_count": 82,
   "metadata": {
    "collapsed": false
   },
   "outputs": [
   ],
   "source": [
    "class BIKE_KEM(object):\n",
    "    \n",
    "    def __init__(self, r, N, T, L):\n",
    "        self.r = r\n",
    "        self.n = N\n",
    "        self.t = T\n",
    "        self.l = L\n",
    "        self.q = GF(2) # corpo finito de tamanho 2\n",
    "        F.<x> = PolynomialRing(self.q)\n",
    "        R.<x> = QuotientRing(F, F.ideal(x^self.r + 1))\n",
    "        self.R = R\n",
    "\n",
    "    def hashed(self, e0, e1):\n",
    "        digest = hashes.Hash(hashes.SHA256())\n",
    "        digest.update(e0.encode())\n",
    "        digest.update(e1.encode())\n",
    "        return digest.finalize()\n",
    "    \n",
    "    def Hamming(self, x):\n",
    "        return sum([1 if a == self.q(1) else 0 for a in x])\n",
    "    \n",
    "    def ppairwise(self, x1, x2):\n",
    "        return x1.pairwise_product(x2)\n",
    "    \n",
    "    def geraCoefs(self, sparse=3):\n",
    "        coefs = [1]*sparse + [0]*(self.r - 2 - sparse)\n",
    "        random.shuffle(coefs)\n",
    "        return self.R([1] + coefs + [1])\n",
    "    \n",
    "    def geraError(self):\n",
    "        err = [1]*self.t + [0]*(self.n - self.t)\n",
    "        random.shuffle(err)\n",
    "        return self.R(err[:self.r]),self.R(err[self.r:])\n",
    "       \n",
    "    def keyGenerator(self):\n",
    "        h0 = self.geraCoefs()\n",
    "        h1 = self.geraCoefs()\n",
    "        return (h0, h1), (1, h0/h1)\n",
    "        \n",
    "    def encaps(self, public):\n",
    "        e0, e1 = self.geraError()\n",
    "        key = self.hashed(str(e0), str(e1))\n",
    "        r = self.R.random_element()\n",
    "        c = (r * public[0] + e0, r * public[1] + e1)\n",
    "        return key, c\n",
    "    \n",
    "    def to_Vector_r(self, f):\n",
    "        fl = f.list()\n",
    "        V = VectorSpace(self.q, self.r)\n",
    "        return V(fl + [0]*(self.r - len(fl)))\n",
    "    \n",
    "    def to_Vector_n(self, c):\n",
    "        f = self.to_Vector_r(c[0]).list() + self.to_Vector_r(c[1]).list()\n",
    "        \n",
    "        V = VectorSpace(self.q, self.n)\n",
    "        return V(f)\n",
    "    \n",
    "    def rotate_unit(self, unit):\n",
    "        V = VectorSpace(self.q, self.r)\n",
    "        v = V()\n",
    "        v[0] = unit[-1]\n",
    "        for i in range(self.r-1):\n",
    "            v[i+1] = unit[i]\n",
    "        return v\n",
    "    \n",
    "    def rotate(self, h):\n",
    "        matrix = Matrix(self.q, self.r, self.r)\n",
    "        matrix[0] = self.to_Vector_r(h)\n",
    "        \n",
    "        for i in range(1, self.r):\n",
    "            matrix[i] = self.rotate_unit(matrix[i-1])\n",
    "            \n",
    "        return matrix\n",
    "        \n",
    "    def bitFlip(self, matrix, c, s):\n",
    "        c_ = c\n",
    "        _s = s\n",
    "        nItr = self.r\n",
    "        \n",
    "        while self.Hamming(_s) > 0 and nItr > 0:\n",
    "            nItr -= 1\n",
    "            pesos = [self.Hamming(self.ppairwise(_s, matrix[i])) for i in range(self.n)]\n",
    "            maximo = max(pesos)\n",
    "            \n",
    "            for j in range(self.n):\n",
    "                if pesos[j] == maximo:\n",
    "                    c_[j] = 1 - c_[j]\n",
    "                    _s += matrix[j]\n",
    "                    \n",
    "        if nItr == 0:\n",
    "            return None\n",
    "        \n",
    "        return c_\n",
    "    \n",
    "    def decaps(self, private, c):\n",
    "        \n",
    "        private_rotate = (self.rotate(private[0]), self.rotate(private[1]))\n",
    "        matrix = block_matrix(2,1, [private_rotate[0], private_rotate[1]])\n",
    "        \n",
    "        c_vector = self.to_Vector_n(c)\n",
    "        syndrome = c_vector * matrix\n",
    "        error = self.bitFlip(matrix, c_vector, syndrome)\n",
    "        \n",
    "        if error == None:\n",
    "            print(\"Máximo de iterações atingidas\")\n",
    "            return None\n",
    "        else:\n",
    "            elist = error.list()\n",
    "            error0, error1 = self.R(elist[:self.r]), self.R(elist[self.r:])\n",
    "            e0, e1 = c[0] - error0, c[1] - error1\n",
    "            \n",
    "            if self.Hamming(self.to_Vector_r(e0)) + self.Hamming(self.to_Vector_r(e1)) != self.t:\n",
    "                print(\"Erro\")\n",
    "                return None\n",
    "            \n",
    "        return self.hashed(str(e0), str(e1))"
   ]
  },
  {
   "cell_type": "markdown",
   "metadata": {
    "collapsed": false
   },
   "source": [
    "### Exemplo\n",
    "\n"
   ]
  },
  {
   "cell_type": "code",
   "execution_count": 67,
   "metadata": {
    "collapsed": false,
    "scrolled": true
   },
   "outputs": [
    {
     "name": "stdout",
     "output_type": "stream",
     "text": [
      "A chave desencapsulada é igual à chave encapsulado. O algoritmo BIKE como um KEM funciona!\n"
     ]
    }
   ],
   "source": [
    "bike = BIKE_KEM(257, 514, 16, 256) #r, n, t, l\n",
    "\n",
    "private, public = bike.keyGenerator()\n",
    "\n",
    "key_encaps, c = bike.encaps(public)\n",
    "\n",
    "key_decaps = bike.decaps(private, c)\n",
    "\n",
    "if key_encaps == key_decaps and key_decaps != None:\n",
    "    print(\"A chave desencapsulada é igual à chave encapsulado. O algoritmo BIKE como um KEM funciona!\")"
   ]
  },
  {
   "cell_type": "markdown",
   "metadata": {
    "collapsed": false
   },
   "source": [
    "## Implementação do PKE\n",
    "\n",
    "- **Cifragem**: $E(x) \\equiv \\vartheta r\\gets h\\centerdot\\vartheta y \\gets (x\\oplus g(r)\\centerdot (e,k) \\gets f(y||r)\\centerdot \\vartheta c \\gets k \\oplus r \\centerdot (y,e,c)$\n",
    "- **Desencapsulamento**: $D(y, e, c) \\equiv \\vartheta k\\gets KREv(e)\\centerdot\\vartheta r \\gets \n",
    "  c\\oplus k \\centerdot if (e,k) \\neq f(y||r) \\ then \\perp  else \\ y \\oplus g(r)$\n",
    "\n"
   ]
  },
  {
   "cell_type": "code",
   "execution_count": 1,
   "metadata": {
    "collapsed": false
   },
   "outputs": [
   ],
   "source": [
    "class BIKE_PKE(object):\n",
    "    \n",
    "    def __init__(self, R, N, T, L):\n",
    "        self.kem = BIKE_KEM(R, N, T, L)\n",
    "        self.r = self.kem.r\n",
    "        self.n = self.kem.n\n",
    "        self.t = self.kem.t\n",
    "        self.l = self.kem.l\n",
    "        self.q = self.kem.q\n",
    "        self.R = self.kem.R\n",
    "        \n",
    "    def hashed(self, r):\n",
    "        digest = hashes.Hash(hashes.SHA256())\n",
    "        digest.update(str(r).encode())\n",
    "        return digest.finalize()\n",
    "        \n",
    "    def keyGenerator(self):\n",
    "        self.private, self.public = self.kem.keyGenerator()\n",
    "        return self.private, self.public\n",
    "    \n",
    "    def f(self, public, m, e0, e1):\n",
    "        w = (m * public[0] + e0, m * public[1] + e1)\n",
    "        key = self.kem.hashed(str(e0), str(e1))\n",
    "        return (key, w)\n",
    "    \n",
    "    def xor(self, x, y):\n",
    "        bits = b''\n",
    "        x_len = len(x)\n",
    "        y_len = len(y)\n",
    "        i=0\n",
    "        while i < x_len:\n",
    "            for j in range(y_len):\n",
    "                if i < x_len:\n",
    "                    bits += (x[i]^^y[j]).to_bytes(1, byteorder='big')\n",
    "                    i += 1\n",
    "                else:\n",
    "                    break\n",
    "        return bits\n",
    "    \n",
    "    def desencaps_key(self, e0, e1):\n",
    "        if self.kem.Hamming(self.kem.to_Vector_r(e0)) + self.kem.Hamming(self.kem.to_Vector_r(e1)) != self.t:\n",
    "            print(\"Error\")\n",
    "            return None\n",
    "        \n",
    "        return self.kem.hashed(str(e0), str(e1))\n",
    "    \n",
    "    def decapsError(self,private, e):\n",
    "        \n",
    "        private_rotate = self.kem.rotate(private[0]), self.kem.rotate(private[1])\n",
    "        matrix = block_matrix(2,1,[private_rotate[0], private_rotate[1]])\n",
    "        \n",
    "        e_vector = self.kem.to_Vector_n(e)\n",
    "        s = e_vector * matrix\n",
    "        error = self.kem.bitFlip(matrix, e_vector, s)\n",
    "        \n",
    "        if error == None:\n",
    "            print(\"Iterações atingiram o limite\")\n",
    "            return None\n",
    "        else:\n",
    "            listError = error.list()\n",
    "            error0, error1 = self.R(listError[:self.r]), self.R(listError[self.r:])\n",
    "            e0, e1 = e[0] - error0, e[1] - error1\n",
    "            \n",
    "        return e0,e1\n",
    "    \n",
    "    def encrypt(self, msg, public):\n",
    "        e0, e1 = self.kem.geraError()\n",
    "        r = self.R.random_element()\n",
    "        g = self.hashed(r)\n",
    "        \n",
    "        y = self.xor(msg.encode(), g)\n",
    "        y_binary = bin(int.from_bytes(y, byteorder = sys.byteorder))\n",
    "        R_y_binary = self.R(y_binary)\n",
    "        \n",
    "        (key, e) = self.f(public, R_y_binary + r, e0, e1)\n",
    "        c = self.xor(str(r).encode(), key)\n",
    "        \n",
    "        return y, e, c\n",
    "    \n",
    "    def decrypt(self, private, y, e, c):\n",
    "        \n",
    "        e0, e1 = self.desencaps_error(private,e)\n",
    "        k = self.desencaps_key(e0,e1)\n",
    "        \n",
    "        r_xored = self.xor(c,k)\n",
    "        r = self.R(r_xored.decode())\n",
    "\n",
    "        y_binary = bin(int.from_bytes(y, byteorder=sys.byteorder))\n",
    "        R_y_Binary = self.R(y_binary)\n",
    "        \n",
    "        if (k,e) != self.f(self.public, R_y_Binary + r, e0, e1):\n",
    "            print(\"Erro\")\n",
    "            return None\n",
    "        else:\n",
    "            hashed = self.hashed(r)\n",
    "            plaintext = self.xor(y, hashed)\n",
    "            \n",
    "        return plaintext"
   ]
  },
  {
   "cell_type": "markdown",
   "metadata": {
    "collapsed": false
   },
   "source": [
    "### Exemplo\n",
    "\n"
   ]
  },
  {
   "cell_type": "code",
   "execution_count": 81,
   "metadata": {
    "collapsed": false
   },
   "outputs": [
    {
     "data": {
      "text/plain": [
       "'EC-TP3 Implementação do algoritmo BIKE com um PKE'"
      ]
     },
     "execution_count": 81,
     "metadata": {
     },
     "output_type": "execute_result"
    }
   ],
   "source": [
    "bike = BIKE_PKE(257, 514, 16, 256) #r, n, t, l\n",
    "\n",
    "mensagem = \"EC-TP3 Implementação do algoritmo BIKE com um PKE\"\n",
    "\n",
    "private, public = bike.keyGenerator()\n",
    "\n",
    "msg_encp, key_encp, ciphertext = bike.encrypt(mensagem, public)\n",
    "\n",
    "plaintext = bike.decrypt(private, msg_encp, key_encp, ciphertext)\n",
    "plaintext.decode()"
   ]
  }
 ],
 "metadata": {
  "kernelspec": {
   "argv": [
    "sage-9.8",
    "--python",
    "-m",
    "sage.repl.ipython_kernel",
    "--matplotlib=inline",
    "-f",
    "{connection_file}"
   ],
   "display_name": "SageMath 9.8",
   "env": {
   },
   "language": "sagemath",
   "metadata": {
    "cocalc": {
     "description": "Open-source mathematical software system",
     "priority": 10,
     "url": "https://www.sagemath.org/"
    }
   },
   "name": "sage-9.8",
   "resource_dir": "/ext/jupyter/kernels/sage-9.8"
  },
  "language_info": {
   "codemirror_mode": {
    "name": "ipython",
    "version": 3
   },
   "file_extension": ".py",
   "mimetype": "text/x-python",
   "name": "python",
   "nbconvert_exporter": "python",
   "pygments_lexer": "ipython3",
   "version": "3.11.1"
  }
 },
 "nbformat": 4,
 "nbformat_minor": 4
}