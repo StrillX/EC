{
 "cells": [
  {
   "cell_type": "markdown",
   "metadata": {
    "collapsed": false
   },
   "source": [
    "# Trabalho Prático 3\n",
    "\n",
    "Trabalho realizado pelo grupo 11:\n",
    "\n",
    "* Beatriz Fernandes Oliveira, PG50942\n",
    "    \n",
    "* Bruno Filipe Machado Jardim, PG49997\n",
    "\n"
   ]
  },
  {
   "cell_type": "markdown",
   "metadata": {
    "collapsed": false
   },
   "source": [
    "## Algoritmo BIKE\n",
    "\n",
    "Nesta segunda parte do trabalho prático 3, foi\\-nos pedido:\n",
    "\n",
    "1. A criação de um protótipo em Sagemath para o algoritmo BIKE, que se baseia no problema da descodificação de códigos lineares de baixa densidade que são simples de implementar.\n",
    "\n",
    "2. E, posteriormente, para essa técnica pretende\\-se implementar um KEM, que seja IND\\-CPA seguro, e um PKE que seja IND\\-CCA seguro.\n",
    "\n"
   ]
  },
  {
   "cell_type": "code",
   "execution_count": 14,
   "metadata": {
    "collapsed": false
   },
   "outputs": [
   ],
   "source": [
    "import random\n",
    "from cryptography.hazmat.primitives import hashes\n",
    "import os\n",
    "from cryptography.hazmat.primitives.ciphers import Cipher, algorithms, modes"
   ]
  },
  {
   "cell_type": "code",
   "execution_count": 50,
   "metadata": {
    "collapsed": false
   },
   "outputs": [
   ],
   "source": [
    "class BIKE_KEM(object):\n",
    "    \n",
    "    def __init__(self, r, N, T, L):\n",
    "        self.r = r\n",
    "        self.n = N\n",
    "        self.t = T\n",
    "        self.l = L\n",
    "        self.q = GF(2) # corpo finito de tamanho 2\n",
    "        F.<x> = PolynomialRing(self.q)\n",
    "        R.<x> = QuotientRing(F, F.ideal(x^self.r + 1))\n",
    "        self.R = R\n",
    "\n",
    "    def K(self, e0, e1):\n",
    "        digest = hashes.Hash(hashes.SHA256())\n",
    "        digest.update(e0.encode())\n",
    "        digest.update(e1.encode())\n",
    "        return digest.finalize()\n",
    "    \n",
    "    def Hamming(self, x):\n",
    "        return sum([1 if a == self.q(1) else 0 for a in x])\n",
    "    \n",
    "    def ppairwise(self, x1, x2):\n",
    "        return x1.pairwise_product(x2)\n",
    "    \n",
    "    def geraCoefs(self, sparse=3):\n",
    "        coefs = [1]*sparse + [0]*(self.r - 2 - sparse)\n",
    "        random.shuffle(coefs)\n",
    "        return self.R([1] + coefs + [1])\n",
    "    \n",
    "    def geraError(self):\n",
    "        err = [1]*self.t + [0]*(self.n - self.t)\n",
    "        random.shuffle(err)\n",
    "        return self.R(err[:self.r]),self.R(err[self.r:])\n",
    "       \n",
    "    def keyGenerator(self):\n",
    "        h0 = self.geraCoefs()\n",
    "        h1 = self.geraCoefs()\n",
    "        g = self.geraCoefs()\n",
    "        f = (h1 + g*h0, g)\n",
    "        return (h0, h1), f\n",
    "        \n",
    "    def encaps(self, public):\n",
    "        e = self.geraCoefs(self.t)\n",
    "        e0, e1 = self.geraError()\n",
    "        key = self.K(str(e0), str(e1))\n",
    "        c = (e + e1 * public[0], e0 + e1 * public[1])\n",
    "        return key, c\n",
    "    \n",
    "    def to_Vector_r(self, f):\n",
    "        fl = f.list()\n",
    "        V = VectorSpace(self.q, self.r)\n",
    "        return V(fl + [0]*(self.r - len(fl)))\n",
    "    \n",
    "    def to_Vector_n(self, c):\n",
    "        f = self.to_Vector_r(c[0]).list() + self.to_Vector_r(c[1]).list()\n",
    "        V = VectorSpace(self.q, self.n)\n",
    "        return V(f)\n",
    "    \n",
    "    def rotate_unit(self, unit):\n",
    "        V = VectorSpace(self.q, self.r)\n",
    "        v = V()\n",
    "        v[0] = unit[-1]\n",
    "        for i in range(self.r-1):\n",
    "            v[i+1] = unit[i]\n",
    "        return v\n",
    "    \n",
    "    def rotate(self, h):\n",
    "        matrix = Matrix(self.q, self.r, self.r)\n",
    "        matrix[0] = self.to_Vector_r(h)\n",
    "        for i in range(1, self.r):\n",
    "            matrix[i] = self.rotate_unit(matrix[i-1])\n",
    "        return matrix\n",
    "        \n",
    "    def bitFlip(self, matrix, c, s):\n",
    "        c_ = c\n",
    "        s_ = s\n",
    "        nItr = self.r\n",
    "        while self.Hamming(s_) > 0 and nItr > 0:\n",
    "            nItr -= 1\n",
    "            pesos = [self.Hamming(s_.self.ppairwise(matrix[i])) for i in range(self.n)]\n",
    "            maximo = max(pesos)\n",
    "            for j in range(self.n):\n",
    "                if pesos[j] == maximo:\n",
    "                    c_[j] = 1 - c_[j]\n",
    "                    z += matrix[j]\n",
    "                    \n",
    "        if nItr == 0:\n",
    "            return None\n",
    "        return c_\n",
    "    \n",
    "    def decaps(self, public, c):\n",
    "        public_rotate = (self.rotate(public[0]), self.rotate(public[1]))\n",
    "        H_matrix = block_matrix(2,1, [public_rotate[0], public_rotate[1]])\n",
    "        c_vector = self.to_Vector_n(c)\n",
    "        syndrome = c_vector * private[0]\n",
    "        error = self.bitFlip(H_matrix, c_vector, syndrome)\n",
    "        if error == None:\n",
    "            print(\"Máximo de iterações atingidas\")\n",
    "            return None\n",
    "        else:\n",
    "            elist = error.list()\n",
    "            error0, error1 = self.R(elist[:self.r]), self.R(elist[self.r:])\n",
    "            e0, e1 = c[0] - error0, c[1] - error1\n",
    "            if self.Hamming(self.to_Vector_r(e0)) + self.Hamming(self.to_Vector_r(e1)) != self.t:\n",
    "                print(\"Erro\")\n",
    "                return None\n",
    "        return self.K(str(e0), str(e1))"
   ]
  },
  {
   "cell_type": "markdown",
   "metadata": {
    "collapsed": false
   },
   "source": [
    "### Exemplo\n",
    "\n"
   ]
  },
  {
   "cell_type": "code",
   "execution_count": 51,
   "metadata": {
    "collapsed": false,
    "scrolled": true
   },
   "outputs": [
    {
     "name": "stdout",
     "output_type": "stream",
     "text": [
      "Erro\n"
     ]
    }
   ],
   "source": [
    "bike = BIKE_KEM(257, 514, 16, 256) #r, n, t, l\n",
    "\n",
    "private, public = bike.keyGenerator()\n",
    "\n",
    "key_encaps, c = bike.encaps(public)\n",
    "\n",
    "key_decaps = bike.decaps(private, c)\n",
    "\n",
    "if key_encaps == key_decaps and key_decaps != None:\n",
    "    print(\"A chave desencapsulada é igual à chave encapsulado. O algoritmo BIKE como um KEM funciona!\")"
   ]
  },
  {
   "cell_type": "markdown",
   "metadata": {
    "collapsed": false
   },
   "source": [
    "## Implementação do PKE\n",
    "\n"
   ]
  },
  {
   "cell_type": "code",
   "execution_count": 5,
   "metadata": {
    "collapsed": false
   },
   "outputs": [
   ],
   "source": [
    "class BIKE_PKE(object):\n",
    "    \n",
    "    def __init__(self, R, N, T, L):\n",
    "        self.kem = BIKE_KEM(R,N,T,L)\n",
    "        \n",
    "    def keyGen(self):\n",
    "        self.private, self.public = self.kem.keyGenerator()\n",
    "        return self.private, self.public\n",
    "    "
   ]
  },
  {
   "cell_type": "markdown",
   "metadata": {
    "collapsed": false
   },
   "source": [
    "### Exemplo\n",
    "\n"
   ]
  },
  {
   "cell_type": "code",
   "execution_count": 6,
   "metadata": {
    "collapsed": false
   },
   "outputs": [
   ],
   "source": [
    "bike = BIKE_PKE(257, 514, 16, 256) #r, n, t, l\n",
    "\n",
    "mensagem = \"EC-TP3 Implementação do algoritmo BIKE com um PKE\""
   ]
  }
 ],
 "metadata": {
  "kernelspec": {
   "argv": [
    "sage-9.8",
    "--python",
    "-m",
    "sage.repl.ipython_kernel",
    "--matplotlib=inline",
    "-f",
    "{connection_file}"
   ],
   "display_name": "SageMath 9.8",
   "env": {
   },
   "language": "sagemath",
   "metadata": {
    "cocalc": {
     "description": "Open-source mathematical software system",
     "priority": 10,
     "url": "https://www.sagemath.org/"
    }
   },
   "name": "sage-9.8",
   "resource_dir": "/ext/jupyter/kernels/sage-9.8"
  },
  "language_info": {
   "codemirror_mode": {
    "name": "ipython",
    "version": 3
   },
   "file_extension": ".py",
   "mimetype": "text/x-python",
   "name": "python",
   "nbconvert_exporter": "python",
   "pygments_lexer": "ipython3",
   "version": "3.11.1"
  }
 },
 "nbformat": 4,
 "nbformat_minor": 4
}