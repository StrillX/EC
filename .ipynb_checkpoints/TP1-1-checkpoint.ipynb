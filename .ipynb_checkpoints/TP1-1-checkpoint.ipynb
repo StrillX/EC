{
 "cells": [
  {
   "cell_type": "markdown",
   "id": "c4cbedfe",
   "metadata": {},
   "source": [
    "# Trabalho Prático 1 \n",
    "## Beatriz Oliveira pg50xxx\n",
    "## Bruno Jardim pg49997\n",
    "### Exercício 1"
   ]
  },
  {
   "cell_type": "markdown",
   "id": "8e2613a2",
   "metadata": {},
   "source": [
    "Use a package Criptography  para \n",
    "\n",
    "1. Criar um comunicação privada assíncrona entre um agente Emitter e um agente Receiver que cubra os seguintes aspectos:\n",
    "    1. Autenticação do criptograma e dos metadados (associated data). Usar uma cifra simétrica  num modo HMAC  que seja seguro contra ataques aos “nounces” .\n",
    "    2. Os “nounces” são gerados por um gerador pseudo aleatório (PRG) construído por um função de hash em modo XOF.\n",
    "    3. O par de chaves $\\mathtt{cipher\\_key}, \\mathtt{mac\\_key}$ , para cifra e autenticação, é acordado entre agentes usando o protocolo ECDH com autenticação dos agentes usando assinaturas ECDSA.\n",
    "    "
   ]
  },
  {
   "cell_type": "code",
   "execution_count": 1,
   "id": "59f74edb",
   "metadata": {},
   "outputs": [],
   "source": [
    "import os \n",
    "import cryptography\n",
    "from cryptography.hazmat.primitives.ciphers.aead import AESGCM"
   ]
  },
  {
   "cell_type": "markdown",
   "id": "3e39e170",
   "metadata": {},
   "source": [
    "Função de geração pseudo aleatório com base na função de hash **SHAKE256** em modo *XOF*"
   ]
  },
  {
   "cell_type": "code",
   "execution_count": 2,
   "id": "57add2ac",
   "metadata": {},
   "outputs": [],
   "source": [
    "def PRG(seed,size):\n",
    "    dgst = hashes.Hash(hashes.SHAKE256(2**size * 8))\n",
    "    dgst.update(seed)\n",
    "    nounceString = dgst.finalize()\n",
    "    return [nounceString[i:i+8] for i in range(0,len(nounceString),8)]"
   ]
  },
  {
   "cell_type": "markdown",
   "id": "2aad4cff",
   "metadata": {},
   "source": [
    "Funções de cifração e decifração com o método **AES** a utilizar o modo *Galois Counter Mode*"
   ]
  },
  {
   "cell_type": "code",
   "execution_count": 3,
   "id": "24c8eeaa",
   "metadata": {},
   "outputs": [],
   "source": [
    "def cipher(key,nounce,message,metadata):\n",
    "    aesgcm = AESGCM(key)\n",
    "    ct = aesgcm.encrypt(nounce, message, metadata)\n",
    "    return ct\n",
    "\n",
    "def decipher(key,nounce,ct,aad):\n",
    "    aesgcm = AESGCM(key)\n",
    "    plaintext = aesgcm.decrypt(nounce, ct, aad)\n",
    "    return plaintext"
   ]
  },
  {
   "cell_type": "markdown",
   "id": "88093297",
   "metadata": {},
   "source": [
    "Função que verifica a autenticidade da mensagem utilizando **HMAC** *(Hash-based message authentication codes)*"
   ]
  },
  {
   "cell_type": "code",
   "execution_count": 4,
   "id": "fb30ef4b",
   "metadata": {},
   "outputs": [],
   "source": [
    "from cryptography.hazmat.primitives import hashes, hmac\n",
    "def HMAC(key,metadata):\n",
    "    h = hmac.HMAC(key, hashes.SHA256())\n",
    "    h.update(metadata)\n",
    "    signature = h.finalize()\n",
    "    return signature"
   ]
  },
  {
   "cell_type": "code",
   "execution_count": 59,
   "id": "ee333c86",
   "metadata": {},
   "outputs": [],
   "source": [
    "from cryptography.hazmat.primitives.asymmetric import dh\n",
    "from cryptography.hazmat.primitives import serialization\n",
    "from cryptography.hazmat.primitives.serialization import load_pem_public_key\n",
    "from cryptography.hazmat.primitives import hashes\n",
    "from cryptography.hazmat.primitives.asymmetric import ec\n",
    "parameters = dh.generate_parameters(generator=2, key_size=2048)\n",
    "def DHKeyGen():\n",
    "    private_key = ec.generate_private_key(ec.SECP384R1())\n",
    "    public_key = private_key.public_key().public_bytes(encoding=serialization.Encoding.PEM, \n",
    "                                                           format=serialization.PublicFormat.SubjectPublicKeyInfo)\n",
    "    return (private_key,public_key)\n",
    "\n",
    "def derive_key(private_key,public_key):\n",
    "    shared_key = private_key.exchange(ec.ECDH(), public_key)\n",
    "    derived_key = HKDF(\n",
    "        algorithm=hashes.SHA256(),\n",
    "        length=32,\n",
    "        salt=None,\n",
    "        info=b'EC',\n",
    "    ).derive(shared_key)\n",
    "    return derived_key\n",
    "\n",
    "def keyVerification(pbk,signature):\n",
    "    pbkEC = load_pem_public_key(pbk)\n",
    "    try:\n",
    "        pbkEC.verify(signature,pbk,ec.ECDSA(hashes.SHA256()))\n",
    "        print(\"Signature validated\")\n",
    "    except Exception as e:\n",
    "        print(\"Invalid signature: \",e)\n",
    "        \n",
    "async def connectionProtocol(queueCipher,queueMac):\n",
    "    \n",
    "    pvkCipher,pbkCipher = DHKeyGen()\n",
    "    signatureC = pvkCipher.sign(pbkCipher, ec.ECDSA(hashes.SHA256()))\n",
    "    \n",
    "    await queueCipher.put((pbkCipher,signatureC))\n",
    "    \n",
    "    pvkMac,pbkMac = DHKeyGen()\n",
    "    signatureM = pvkMac.sign(pbkMac, ec.ECDSA(hashes.SHA256()))\n",
    "    \n",
    "    await queueMac.put((pbkMac,signatureM))\n",
    "    \n",
    "    pbkC,sC = await queueCipher.get()\n",
    "    pbkM,sM = await queueMac.get()\n",
    "    \n",
    "    keyVerification(pbkC,sC)\n",
    "    keyVerification(pbkM,sM)\n",
    "    \n",
    "    pbkC = load_pem_public_key(pbkC)\n",
    "    pbkM = load_pem_public_key(pbkM)\n",
    "    \n",
    "    derivedCipher = deriveKey(pvkCipher,pbkC)\n",
    "    derivedMac = deriveKey(pvkMac,pbkM)\n",
    "    \n",
    "    return (derivedCipher,derivedMac)\n",
    "    "
   ]
  },
  {
   "cell_type": "code",
   "execution_count": 22,
   "id": "d629ead9",
   "metadata": {},
   "outputs": [
    {
     "name": "stdout",
     "output_type": "stream",
     "text": [
      "[Emitter]: Sent message\n",
      "[Receiver]: Received ->  As armas e os barões assinalados,\n",
      "[Emitter]: Sent message\n",
      "[Receiver]: Received ->  Que da ocidental praia Lusitana,\n",
      "[Emitter]: Sent message\n",
      "[Receiver]: Received ->  Por mares nunca de antes navegados,\n",
      "[Emitter]: Sent message\n",
      "[Receiver]: Received ->  Passaram ainda além da Taprobana,\n",
      "[Emitter]: Sent message\n",
      "[Receiver]: Received ->  Em perigos e guerras esforçados,\n",
      "[Emitter]: Sent message\n",
      "[Receiver]: Received ->  Mais do que prometia a força humana,\n",
      "[Emitter]: Sent message\n",
      "[Receiver]: Received ->  E entre gente remota edificaram\n",
      "[Emitter]: Sent message\n",
      "[Receiver]: Received ->  Novo Reino, que tanto sublimaram;\n",
      "[Receiver]: End of messages\n"
     ]
    }
   ],
   "source": [
    "import asyncio\n",
    "import random\n",
    "import nest_asyncio\n",
    "nest_asyncio.apply()\n",
    "\n",
    "async def Emitter(key,queue,qC,qM):\n",
    "    msg_list = [\n",
    "        \"As armas e os barões assinalados,\",\n",
    "        \"Que da ocidental praia Lusitana,\",\n",
    "        \"Por mares nunca de antes navegados,\",\n",
    "        \"Passaram ainda além da Taprobana,\",\n",
    "        \"Em perigos e guerras esforçados,\",\n",
    "        \"Mais do que prometia a força humana,\",\n",
    "        \"E entre gente remota edificaram\",\n",
    "        \"Novo Reino, que tanto sublimaram;\"\n",
    "    ]\n",
    "    nounceList = PRG(key,10)\n",
    "    for i in range(len(msg_list)):\n",
    "        msg = msg_list[i].encode('utf-8')\n",
    "        aad = HMAC(key,msg)\n",
    "        ct = cipher(key,nounceList[i],msg,aad)\n",
    "        await asyncio.sleep(random.random())\n",
    "        await queue.put((ct,aad))\n",
    "        print(f\"[Emitter]: Sent message\")\n",
    "    await queue.put(None)\n",
    "    \n",
    "\n",
    "async def Receiver(key,queue,qC,qM):   \n",
    "    nounceList = PRG(key,10)\n",
    "    i = 0\n",
    "    while True:\n",
    "        item = await queue.get()\n",
    "        if item is None:\n",
    "            break\n",
    "        ct, aad = item\n",
    "        pt = decipher(key,nounceList[i],ct, aad).decode('utf-8')\n",
    "        print(\"[Receiver]: Received -> \", pt)\n",
    "        queue.task_done()\n",
    "        i+=1\n",
    "    print(\"[Receiver]: End of messages\")\n",
    "\n",
    "\n",
    "async def main():\n",
    "    \n",
    "    key = AESGCM.generate_key(bit_length=128)\n",
    "    queue = asyncio.Queue()\n",
    "    emitter = asyncio.create_task(Emitter(key,queue))\n",
    "    receiver = asyncio.create_task(Receiver(key,queue))\n",
    "    \n",
    "asyncio.run(main())"
   ]
  },
  {
   "cell_type": "code",
   "execution_count": 57,
   "id": "7f5a6297",
   "metadata": {},
   "outputs": [],
   "source": [
    "\n"
   ]
  },
  {
   "cell_type": "code",
   "execution_count": 58,
   "id": "cda9ad89",
   "metadata": {},
   "outputs": [
    {
     "name": "stdout",
     "output_type": "stream",
     "text": [
      "Signature validated\n"
     ]
    }
   ],
   "source": [
    "pvk,pbk = DHKeyGen()\n",
    "\n",
    "signature = pvk.sign(pbk, ec.ECDSA(hashes.SHA256()))\n",
    "\n",
    "keyVerification(pbk,signature)"
   ]
  },
  {
   "cell_type": "code",
   "execution_count": null,
   "id": "c508fe95",
   "metadata": {},
   "outputs": [],
   "source": [
    "\n",
    "    \n",
    "    \n",
    "    \n",
    "    \n",
    "    "
   ]
  }
 ],
 "metadata": {
  "kernelspec": {
   "display_name": "Python 3 (ipykernel)",
   "language": "python",
   "name": "python3"
  },
  "language_info": {
   "codemirror_mode": {
    "name": "ipython",
    "version": 3
   },
   "file_extension": ".py",
   "mimetype": "text/x-python",
   "name": "python",
   "nbconvert_exporter": "python",
   "pygments_lexer": "ipython3",
   "version": "3.9.7"
  }
 },
 "nbformat": 4,
 "nbformat_minor": 5
}
